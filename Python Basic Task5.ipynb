{
 "cells": [
  {
   "cell_type": "markdown",
   "id": "bc01519c",
   "metadata": {},
   "source": [
    "# Mohammed Saber "
   ]
  },
  {
   "cell_type": "markdown",
   "id": "42a53b95",
   "metadata": {},
   "source": [
    "## 1. What does an empty dictionary's code look like?"
   ]
  },
  {
   "cell_type": "code",
   "execution_count": 1,
   "id": "82fdc839",
   "metadata": {},
   "outputs": [
    {
     "data": {
      "text/plain": [
       "{}"
      ]
     },
     "execution_count": 1,
     "metadata": {},
     "output_type": "execute_result"
    }
   ],
   "source": [
    "my_dict = {}\n",
    "my_dict"
   ]
  },
  {
   "cell_type": "code",
   "execution_count": 2,
   "id": "fa0b5bf4",
   "metadata": {},
   "outputs": [
    {
     "data": {
      "text/plain": [
       "{}"
      ]
     },
     "execution_count": 2,
     "metadata": {},
     "output_type": "execute_result"
    }
   ],
   "source": [
    "my_dict2 = dict()\n",
    "my_dict2"
   ]
  },
  {
   "cell_type": "markdown",
   "id": "ba4ea7d5",
   "metadata": {},
   "source": [
    "## 2. What is the value of a dictionary value with the key 'foo' and the value 42?"
   ]
  },
  {
   "cell_type": "code",
   "execution_count": 3,
   "id": "65015240",
   "metadata": {},
   "outputs": [
    {
     "name": "stdout",
     "output_type": "stream",
     "text": [
      "42\n"
     ]
    }
   ],
   "source": [
    "my_dict = {'foo': 42}\n",
    "value = my_dict['foo']\n",
    "print(value)"
   ]
  },
  {
   "cell_type": "markdown",
   "id": "81d6bda0",
   "metadata": {},
   "source": [
    "## 3. What is the most significant distinction between a dictionary and a list?"
   ]
  },
  {
   "cell_type": "code",
   "execution_count": null,
   "id": "85ff0cab",
   "metadata": {},
   "outputs": [],
   "source": [
    "'''\n",
    "The most significant distinction between a dictionary and a list is their structure and the way they store \n",
    "and organize data.\n",
    "\n",
    "A list is an ordered collection of values, where each value is identified by its position or index within the list. \n",
    "Lists are mutable, which means they can be modified by adding, removing, or changing elements.\n",
    "\n",
    "On the other hand, a dictionary is an unordered collection of key-value pairs, where each key is associated with a value.\n",
    "The keys in a dictionary are unique and immutable, which means they cannot be changed once they are created.\n",
    "Dictionaries are also mutable, which means their values can be modified by adding, removing, or changing key-value pairs.\n",
    "\n",
    "the main difference between a list and a dictionary is that a list is an ordered collection of values identified by\n",
    "their position, while a dictionary is an unordered collection of key-value pairs identified by their keys.\n",
    "Lists are useful when you need to maintain the order of elements and access them by their position,\n",
    "while dictionaries are useful when you need to map keys to values and access them by their keys.\n",
    "'''"
   ]
  },
  {
   "cell_type": "markdown",
   "id": "6c7782d5",
   "metadata": {},
   "source": [
    "## 4. What happens if you try to access spam['foo'] if spam is {'bar': 100}?"
   ]
  },
  {
   "cell_type": "code",
   "execution_count": null,
   "id": "1093dba1",
   "metadata": {},
   "outputs": [],
   "source": [
    "'''\n",
    "If you try to access spam['foo'] and spam is {'bar': 100}, a KeyError will be raised,\n",
    "because the key 'foo' does not exist in the dictionary spam.\n",
    "'''"
   ]
  },
  {
   "cell_type": "code",
   "execution_count": 4,
   "id": "9aa4960b",
   "metadata": {},
   "outputs": [
    {
     "ename": "KeyError",
     "evalue": "'foo'",
     "output_type": "error",
     "traceback": [
      "\u001b[1;31m---------------------------------------------------------------------------\u001b[0m",
      "\u001b[1;31mKeyError\u001b[0m                                  Traceback (most recent call last)",
      "Cell \u001b[1;32mIn[4], line 2\u001b[0m\n\u001b[0;32m      1\u001b[0m spam \u001b[38;5;241m=\u001b[39m {\u001b[38;5;124m'\u001b[39m\u001b[38;5;124mbar\u001b[39m\u001b[38;5;124m'\u001b[39m: \u001b[38;5;241m100\u001b[39m}\n\u001b[1;32m----> 2\u001b[0m value \u001b[38;5;241m=\u001b[39m \u001b[43mspam\u001b[49m\u001b[43m[\u001b[49m\u001b[38;5;124;43m'\u001b[39;49m\u001b[38;5;124;43mfoo\u001b[39;49m\u001b[38;5;124;43m'\u001b[39;49m\u001b[43m]\u001b[49m\n",
      "\u001b[1;31mKeyError\u001b[0m: 'foo'"
     ]
    }
   ],
   "source": [
    "spam = {'bar': 100}\n",
    "value = spam['foo']"
   ]
  },
  {
   "cell_type": "code",
   "execution_count": null,
   "id": "14ebb18b",
   "metadata": {},
   "outputs": [],
   "source": [
    "'''\n",
    "If you want to avoid raising a KeyError when attempting to access a key that may not exist in a dictionary,\n",
    "you can use the get() method. The get() method returns the value associated with a key if it exists in the dictionary,\n",
    "or a specified default value if it does not exist.\n",
    "'''"
   ]
  },
  {
   "cell_type": "code",
   "execution_count": 5,
   "id": "a4b71646",
   "metadata": {},
   "outputs": [
    {
     "data": {
      "text/plain": [
       "0"
      ]
     },
     "execution_count": 5,
     "metadata": {},
     "output_type": "execute_result"
    }
   ],
   "source": [
    "spam = {'bar': 100}\n",
    "value = spam.get('foo', 0)\n",
    "value"
   ]
  },
  {
   "cell_type": "markdown",
   "id": "42d6e74a",
   "metadata": {},
   "source": [
    "## 5. If a dictionary is stored in spam, what is the difference between the expressions 'cat' in spam and 'cat' in spam.keys()?"
   ]
  },
  {
   "cell_type": "code",
   "execution_count": null,
   "id": "c257835c",
   "metadata": {},
   "outputs": [],
   "source": [
    "'''\n",
    "If a dictionary is stored in the variable spam, \n",
    "there is no practical difference between the expressions 'cat' in spam and 'cat' in spam.keys(). \n",
    "Both expressions check if the key 'cat' is present in the dictionary spam.\n",
    "\n",
    "In Python, when you use the in operator with a dictionary, \n",
    "it checks whether the key is present in the dictionary. Therefore, \n",
    "'cat' in spam will return True if the key 'cat' is present in spam.\n",
    "\n",
    "Similarly, when you use the keys() method of a dictionary, \n",
    "it returns a view object that contains the keys of the dictionary. Therefore, \n",
    "'cat' in spam.keys() will also return True if the key 'cat' is present in spam.\n",
    "'''"
   ]
  },
  {
   "cell_type": "code",
   "execution_count": 6,
   "id": "40f25119",
   "metadata": {},
   "outputs": [
    {
     "name": "stdout",
     "output_type": "stream",
     "text": [
      "True\n",
      "True\n"
     ]
    }
   ],
   "source": [
    "spam = {'cat': 5, 'dog': 2, 'hamster': 1}\n",
    "print('cat' in spam)         \n",
    "print('cat' in spam.keys())"
   ]
  },
  {
   "cell_type": "markdown",
   "id": "cf85f205",
   "metadata": {},
   "source": [
    "## 6. If a dictionary is stored in spam, what is the difference between the expressions 'cat' in spam and 'cat' in spam.values()?"
   ]
  },
  {
   "cell_type": "code",
   "execution_count": null,
   "id": "3eb1c27e",
   "metadata": {},
   "outputs": [],
   "source": [
    "'''\n",
    "If a dictionary is stored in the variable spam, \n",
    "the expressions 'cat' in spam and 'cat' in spam.values() have different meanings.\n",
    "\n",
    "The expression 'cat' in spam checks whether the key 'cat' is present in the dictionary spam. \n",
    "If 'cat' is a key in spam, the expression will return True. However, if 'cat' is not a key in spam, \n",
    "the expression will return False.\n",
    "\n",
    "On the other hand, the expression 'cat' in spam.\n",
    "values() checks whether the value 'cat' is present in any of the values of the dictionary spam. \n",
    "If 'cat' is a value in spam, the expression will return True. However, if 'cat' is not a value in spam, \n",
    "the expression will return False.\n",
    "'''"
   ]
  },
  {
   "cell_type": "code",
   "execution_count": 7,
   "id": "4a8007c5",
   "metadata": {},
   "outputs": [
    {
     "name": "stdout",
     "output_type": "stream",
     "text": [
      "True\n",
      "False\n",
      "True\n"
     ]
    }
   ],
   "source": [
    "spam = {'cat': 5, 'dog': 2, 'hamster': 1}\n",
    "print('cat' in spam)           \n",
    "print('cat' in spam.values())  \n",
    "print(5 in spam.values())"
   ]
  },
  {
   "cell_type": "markdown",
   "id": "a7da5e4e",
   "metadata": {},
   "source": [
    "## 7. What is a shortcut for the following code?"
   ]
  },
  {
   "cell_type": "code",
   "execution_count": 8,
   "id": "c2e7bd00",
   "metadata": {},
   "outputs": [],
   "source": [
    "if 'color' not in spam:\n",
    "    spam['color'] = 'black'"
   ]
  },
  {
   "cell_type": "code",
   "execution_count": null,
   "id": "41d9065d",
   "metadata": {},
   "outputs": [],
   "source": [
    "'''\n",
    "is to use the setdefault() method of the dictionary spam. \n",
    "The setdefault() method is a convenient way to add a key-value pair to a dictionary if the key does not already exist.\n",
    "'''"
   ]
  },
  {
   "cell_type": "code",
   "execution_count": 9,
   "id": "d04f7396",
   "metadata": {},
   "outputs": [
    {
     "data": {
      "text/plain": [
       "'black'"
      ]
     },
     "execution_count": 9,
     "metadata": {},
     "output_type": "execute_result"
    }
   ],
   "source": [
    "spam.setdefault('color', 'black')"
   ]
  },
  {
   "cell_type": "markdown",
   "id": "c25b0274",
   "metadata": {},
   "source": [
    "## 8. How do you \"pretty print\" dictionary values using which module and function?"
   ]
  },
  {
   "cell_type": "code",
   "execution_count": null,
   "id": "fbaff926",
   "metadata": {},
   "outputs": [],
   "source": [
    "'''\n",
    "To pretty print dictionary values in Python, you can use the pprint module, \n",
    "which provides a pprint() function that can be used to display the contents of a dictionary in a structured \n",
    "and easy-to-read format.\n",
    "\n",
    "This will output the contents of the dictionary my_dict in a more readable format, \n",
    "with each key-value pair on a separate line and properly indented\n",
    "'''"
   ]
  },
  {
   "cell_type": "code",
   "execution_count": 10,
   "id": "524765ba",
   "metadata": {},
   "outputs": [
    {
     "name": "stdout",
     "output_type": "stream",
     "text": [
      "{'age': 30, 'city': 'New York', 'name': 'John'}\n"
     ]
    }
   ],
   "source": [
    "import pprint\n",
    "\n",
    "my_dict = {'name': 'John', 'age': 30, 'city': 'New York'}\n",
    "pprint.pprint(my_dict)"
   ]
  },
  {
   "cell_type": "markdown",
   "id": "c4a8cfe6",
   "metadata": {},
   "source": [
    "## Thank You"
   ]
  }
 ],
 "metadata": {
  "kernelspec": {
   "display_name": "Python 3 (ipykernel)",
   "language": "python",
   "name": "python3"
  },
  "language_info": {
   "codemirror_mode": {
    "name": "ipython",
    "version": 3
   },
   "file_extension": ".py",
   "mimetype": "text/x-python",
   "name": "python",
   "nbconvert_exporter": "python",
   "pygments_lexer": "ipython3",
   "version": "3.10.9"
  }
 },
 "nbformat": 4,
 "nbformat_minor": 5
}
