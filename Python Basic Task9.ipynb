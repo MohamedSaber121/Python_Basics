{
 "cells": [
  {
   "cell_type": "markdown",
   "id": "ce905e40",
   "metadata": {},
   "source": [
    "## 1. To what does a relative path refer?"
   ]
  },
  {
   "cell_type": "raw",
   "id": "c9ce5ecb",
   "metadata": {},
   "source": [
    "In computing,a relative path refers to a file or directory path that is relative to the current working directory \n",
    "of the program or process.\n",
    "\n",
    "A relative path specifies the location of a file or directory relative to the current working directory,\n",
    "rather than the absolute location of the file or directory on the file system. For example,\n",
    "if the current working directory is /home/user/documents/,\n",
    "a relative path to a file in the same directory might be file.txt,\n",
    "while a relative path to a file in a subdirectory might be subdirectory/file.txt.\n",
    "\n",
    "Relative paths are often used in programming to specify the location of files or directories\n",
    "that are located within the same project or directory structure as the program.\n",
    "They can help make programs more portable by allowing the program to access files and directories using paths\n",
    "that are relative to the program's location, rather than using hard-coded absolute paths that may not be valid on all systems."
   ]
  },
  {
   "cell_type": "markdown",
   "id": "6c7db069",
   "metadata": {},
   "source": [
    "## 2. What does an absolute path start with your operating system?"
   ]
  },
  {
   "cell_type": "raw",
   "id": "034ebb75",
   "metadata": {},
   "source": [
    "In most modern operating systems,\n",
    "an absolute path starts with the root directory of the file system.\n",
    "\n",
    "In Unix-based systems (including Linux and macOS), the root directory is denoted by a forward slash (/).\n",
    "For example, an absolute path to a file in the /usr/bin/ directory"
   ]
  },
  {
   "cell_type": "markdown",
   "id": "9a282fe4",
   "metadata": {},
   "source": [
    "## 3. What do the functions os.getcwd() and os.chdir() do?"
   ]
  },
  {
   "cell_type": "raw",
   "id": "5a7ce4b5",
   "metadata": {},
   "source": [
    "The os.getcwd() function and os.chdir() function are used to get and change the current working directory in Python,\n",
    "respectively.\n",
    "\n",
    "os.getcwd(): This function returns the current working directory as a string.\n",
    "The current working directory is the directory from which the Python script is currently running.\n",
    "Here's an example of how to use os.getcwd():"
   ]
  },
  {
   "cell_type": "code",
   "execution_count": 1,
   "id": "081f1162",
   "metadata": {},
   "outputs": [
    {
     "name": "stdout",
     "output_type": "stream",
     "text": [
      "Current working directory: C:\\Users\\Mohamed\\Desktop\\Assignments_python\\Python Basic Assignment9\n"
     ]
    }
   ],
   "source": [
    "import os\n",
    "\n",
    "# Get the current working directory\n",
    "cwd = os.getcwd()\n",
    "\n",
    "print(\"Current working directory:\", cwd)"
   ]
  },
  {
   "cell_type": "raw",
   "id": "6684e2e4",
   "metadata": {},
   "source": [
    "os.chdir(): This function changes the current working directory to the directory specified as its argument.\n",
    "Here's an example of how to use os.chdir():"
   ]
  },
  {
   "cell_type": "code",
   "execution_count": null,
   "id": "1a86677c",
   "metadata": {},
   "outputs": [],
   "source": [
    "import os\n",
    "\n",
    "# Change the current working directory to the \"documents\" directory\n",
    "os.chdir(\"/home/user/documents\")\n",
    "\n",
    "# Get the new current working directory\n",
    "cwd = os.getcwd()\n",
    "\n",
    "print(\"Current working directory:\", cwd)"
   ]
  },
  {
   "cell_type": "markdown",
   "id": "030333f6",
   "metadata": {},
   "source": [
    "## 4. What are the . and .. folders?"
   ]
  },
  {
   "cell_type": "raw",
   "id": "5947d239",
   "metadata": {},
   "source": [
    "In a file system, the . and .. folders are special directory names that represent the current directory and\n",
    "the parent directory, respectively.\n",
    "\n",
    "The . (dot) directory is a reference to the current directory. \n",
    "It can be used to specify the current directory in file paths and commands. For example, on Unix-based systems,\n",
    "the command ls . would list the contents of the current directory.\n",
    "\n",
    "The .. (dot-dot) directory is a reference to the parent directory of the current directory.\n",
    "It can be used to specify the parent directory in file paths and commands. For example, on Unix-based systems,\n",
    "the command ls .. would list the contents of the parent directory.\n",
    "\n",
    "The . and .. directories are often used in conjunction with relative file paths to specify the location of files and\n",
    "directories relative to the current or parent directory. For example, \n",
    "the file path ./file.txt refers to a file named file.txt in the current directory, \n",
    "while the file path ../file.txt refers to a file named file.txt in the parent directory.\n",
    "\n",
    "Note that the exact behavior of the . and .. directories may vary depending on the file system and operating system\n",
    "in use. However, in general, they are used to represent the current and parent directories in a file system."
   ]
  },
  {
   "cell_type": "markdown",
   "id": "e616f984",
   "metadata": {},
   "source": [
    "## 5. In C:\\bacon\\eggs\\spam.txt, which part is the dir name, and which part is the base name?"
   ]
  },
  {
   "cell_type": "raw",
   "id": "9ca908fd",
   "metadata": {},
   "source": [
    "In the path C:\\bacon\\eggs\\spam.txt, the directory name is C:\\bacon\\eggs and the base name is spam.txt."
   ]
  },
  {
   "cell_type": "markdown",
   "id": "b43608a8",
   "metadata": {},
   "source": [
    "## 6. What are the three “mode” arguments that can be passed to the open() function?"
   ]
  },
  {
   "cell_type": "raw",
   "id": "5f8f89d4",
   "metadata": {},
   "source": [
    "The open() function in Python allows you to open a file and return a file object that\n",
    "can be used to read from or write to the file. The function takes two arguments: the file path and the mode. \n",
    "The mode argument specifies how the file should be opened and whether the file should be read, written, or both.\n",
    "\n",
    "There are three main mode arguments that can be passed to the open() function:\n",
    "'r': This mode opens the file for reading (default). If the file does not exist, an error will be raised.\n",
    "    \n",
    "'w': This mode opens the file for writing. If the file does not exist, a new file will be created.\n",
    "If the file already exists, its contents will be truncated (i.e., deleted) before writing new data to the file.\n",
    "\n",
    "'a': This mode opens the file for appending. If the file does not exist, a new file will be created. \n",
    "If the file already exists, new data will be written to the end of the file, without deleting any existing data."
   ]
  },
  {
   "cell_type": "raw",
   "id": "fdccbd39",
   "metadata": {},
   "source": [
    "In addition to these three main mode arguments, \n",
    "there are several other mode arguments that can be used to control how the file is opened, \n",
    "such as 'x' (exclusive creation), 'b' (binary mode), and '+' (reading and writing). \n",
    "For more details on the mode arguments that can be passed to the open() function, \n",
    "you can refer to the Python documentation."
   ]
  },
  {
   "cell_type": "markdown",
   "id": "ddc18347",
   "metadata": {},
   "source": [
    "## 7. What happens if an existing file is opened in write mode?"
   ]
  },
  {
   "cell_type": "raw",
   "id": "9de0f19b",
   "metadata": {},
   "source": [
    "If an existing file is opened in write mode using the open() function in Python, \n",
    "the file's existing contents will be truncated (deleted), and the file will be treated as empty. \n",
    "Any new data written to the file will overwrite the previous contents of the file."
   ]
  },
  {
   "cell_type": "code",
   "execution_count": 3,
   "id": "9fb3ab8e",
   "metadata": {},
   "outputs": [],
   "source": [
    "with open('example.txt', 'w') as f:\n",
    "    f.write('Goodbye, world!')"
   ]
  },
  {
   "cell_type": "raw",
   "id": "fef5f0e8",
   "metadata": {},
   "source": [
    "Note that if the file does not exist and is opened in write mode, a new file will be created.\n",
    "However, if the file exists and is opened in write mode, its existing contents will be truncated, \n",
    "regardless of whether the file was created previously using Python or another program. Therefore, \n",
    "it's important to be careful when opening files in write mode to avoid accidentally deleting important data."
   ]
  },
  {
   "cell_type": "markdown",
   "id": "a58bda1b",
   "metadata": {},
   "source": [
    "## 8. How do you tell the difference between read() and readlines()?"
   ]
  },
  {
   "cell_type": "raw",
   "id": "25e90d51",
   "metadata": {},
   "source": [
    "In Python, the read() method and the readlines() method are used to read data from a file object. \n",
    "The main difference between these two methods is the way they read the data from the file.\n",
    "\n",
    "The read() method reads the entire contents of the file as a single string, \n",
    "starting from the current file position. If you call read() on a file object and then call it again, \n",
    "it will return an empty string because the file pointer is already at the end of the file. \n",
    "Here's an example of how to use read():"
   ]
  },
  {
   "cell_type": "code",
   "execution_count": null,
   "id": "19f54adf",
   "metadata": {},
   "outputs": [],
   "source": [
    "with open('example.txt', 'r') as f:\n",
    "    file_contents = f.read()\n",
    "    print(file_contents)"
   ]
  },
  {
   "cell_type": "raw",
   "id": "5b498763",
   "metadata": {},
   "source": [
    "The readlines() method, on the other hand, reads the entire contents of the file as a list of strings, \n",
    "where each string represents a line in the file. If you call readlines() on a file object and then call it again, \n",
    "it will return an empty list because the file pointer is already at the end of the file. \n",
    "Here's an example of how to use readlines():"
   ]
  },
  {
   "cell_type": "code",
   "execution_count": null,
   "id": "c628b1d5",
   "metadata": {},
   "outputs": [],
   "source": [
    "with open('example.txt', 'r') as f:\n",
    "    lines = f.readlines()\n",
    "    for line in lines:\n",
    "        print(line.strip())"
   ]
  },
  {
   "cell_type": "markdown",
   "id": "2b30a6e2",
   "metadata": {},
   "source": [
    "## 9. What data structure does a shelf value resemble?"
   ]
  },
  {
   "cell_type": "raw",
   "id": "26a77c22",
   "metadata": {},
   "source": [
    "a shelf is a built-in module that provides a way to store and retrieve key-value pairs in a persistent dictionary-like\n",
    "data structure. A shelf is similar to a dictionary in that it allows you to store and retrieve data using keys and values, \n",
    "but it is different from a dictionary in that it is stored on disk rather than in memory.\n",
    "\n",
    "The shelf module uses a file as the underlying storage mechanism for the key-value pairs, \n",
    "and it provides a dictionary-like interface for accessing the data. When you create a shelf object, \n",
    "you specify the name of the file that will be used to store the data. Once the shelf is created, \n",
    "you can use it like a dictionary, using keys to access the corresponding values.\n",
    "\n",
    "The values in a shelf resemble a dictionary data structure in that they are key-value pairs, \n",
    "where each key is associated with a value. However, unlike a dictionary, \n",
    "the values in a shelf are stored on disk rather than in memory, \n",
    "which allows them to persist across multiple runs of a program. Additionally, \n",
    "unlike a dictionary, the values in a shelf are not stored in any particular order, as they are stored in a file.\n",
    "\n",
    "In summary, a shelf value in Python resembles a dictionary-like data structure, \n",
    "where each key is associated with a value, but it is stored on disk rather than in memory."
   ]
  },
  {
   "cell_type": "markdown",
   "id": "8dca3fc2",
   "metadata": {},
   "source": [
    "## Thank You"
   ]
  },
  {
   "cell_type": "code",
   "execution_count": null,
   "id": "74743f01",
   "metadata": {},
   "outputs": [],
   "source": []
  }
 ],
 "metadata": {
  "kernelspec": {
   "display_name": "Python 3 (ipykernel)",
   "language": "python",
   "name": "python3"
  },
  "language_info": {
   "codemirror_mode": {
    "name": "ipython",
    "version": 3
   },
   "file_extension": ".py",
   "mimetype": "text/x-python",
   "name": "python",
   "nbconvert_exporter": "python",
   "pygments_lexer": "ipython3",
   "version": "3.8.0"
  }
 },
 "nbformat": 4,
 "nbformat_minor": 5
}
