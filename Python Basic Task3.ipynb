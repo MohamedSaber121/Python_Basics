{
 "cells": [
  {
   "cell_type": "markdown",
   "id": "e22c0408",
   "metadata": {},
   "source": [
    "## 1. Why are functions advantageous to have in your programs?"
   ]
  },
  {
   "cell_type": "raw",
   "id": "a9ab6639",
   "metadata": {},
   "source": [
    "Functions are advantageous to have in your programs for several reasons:\n",
    "\n",
    "Reusability: Functions allow you to write a block of code once and reuse it multiple times throughout your program. This saves time and effort, and also reduces the amount of code you need to write and maintain.\n",
    "\n",
    "Modularity: Functions help to break a program into smaller, more manageable pieces. This makes it easier to understand and maintain complex code, and also allows multiple programmers to work on different parts of the program simultaneously.\n",
    "\n",
    "Abstraction: Functions allow you to hide the details of a particular operation and focus on its functionality instead. This makes code easier to read and understand, and also makes it easier to change the underlying implementation without affecting the rest of the program.\n",
    "\n",
    "Testing: Functions make it easier to test individual parts of a program in isolation, which can help to identify and fix bugs more quickly and easily.\n",
    "\n",
    "Code organization: Functions help to organize code into logical units, making it easier to navigate and understand. This can be especially helpful in larger programs where code can quickly become difficult to manage.\n",
    "    \n",
    "    \n",
    "Overall, functions are an essential tool for building modular, reusable, and maintainable programs. They allow you to write code that is more efficient, easier to read and maintain, and less prone to errors"
   ]
  },
  {
   "cell_type": "markdown",
   "id": "9a7deffc",
   "metadata": {},
   "source": [
    "## 2. When does the code in a function run: when it's specified or when it's called?"
   ]
  },
  {
   "cell_type": "raw",
   "id": "812b7ad9",
   "metadata": {},
   "source": [
    "The code inside a function in Python runs only when the function is called, not when it is defined or specified.\n",
    "When a function is defined, Python only stores the function definition\n",
    "(the block of code that defines the function and its parameters) in memory.\n",
    "The code inside the function is not executed until the function is called.\n",
    "When you call a function in your program, Python jumps to the function definition and executes the code inside the function.\n",
    "Once the code inside the function has finished executing,\n",
    "control is returned to the point in the program where the function was called,\n",
    "and the program continues to execute from there."
   ]
  },
  {
   "cell_type": "markdown",
   "id": "1ad92c3c",
   "metadata": {},
   "source": [
    "## 3. What statement creates a function?"
   ]
  },
  {
   "cell_type": "raw",
   "id": "7a8b2cb8",
   "metadata": {},
   "source": [
    "def: This is the keyword used to define a function in Python.\n",
    "    \n",
    "function_name: This is the name you give to your function. It should be a descriptive name that indicates what the function does.\n",
    "    \n",
    "parameters: These are the input values that the function expects.\n",
    "Parameters are optional; if your function doesn't require any input values, you can omit this part of the syntax.\n",
    "\n",
    "docstring: This is an optional string that provides documentation for your function. \n",
    "    It should describe what the function does, what input values it expects, and what output values it returns.\n",
    "    \n",
    "code block: This is the block of code that defines the behavior of your function.\n",
    "    It can contain any valid Python code, including statements, loops, and other functions.\n",
    "    \n",
    "return value: This statement is used to specify the output value of the function.\n",
    "It is optional; if your function doesn't need to return any values, you can omit this part of the syntax."
   ]
  },
  {
   "cell_type": "code",
   "execution_count": 1,
   "id": "952f77de",
   "metadata": {},
   "outputs": [],
   "source": [
    "def function_name(parameters):\n",
    "    \"\"\"docstring\"\"\"\n",
    "    # code block\n",
    "    return value"
   ]
  },
  {
   "cell_type": "markdown",
   "id": "37cd0332",
   "metadata": {},
   "source": [
    "## 4. What is the difference between a function and a function call?"
   ]
  },
  {
   "cell_type": "raw",
   "id": "13fb4d5a",
   "metadata": {},
   "source": [
    "a function is a block of reusable code that performs a specific task. It defines a set of instructions that can be executed whenever the function is called.\n",
    "a function call is the act of invoking a function in order to execute its code. When you call a function, you provide the input values (if any) that the function expects, and the function performs its task using those input values. The function then returns any output values (if specified) back to the point in the program where the function was called."
   ]
  },
  {
   "cell_type": "code",
   "execution_count": 2,
   "id": "9ae670fd",
   "metadata": {},
   "outputs": [],
   "source": [
    "def add_numbers(x, y):\n",
    "    \"\"\"This function adds two numbers\"\"\"\n",
    "    return x + y"
   ]
  },
  {
   "cell_type": "code",
   "execution_count": 3,
   "id": "8a438f81",
   "metadata": {},
   "outputs": [],
   "source": [
    "result = add_numbers(3, 4)"
   ]
  },
  {
   "cell_type": "code",
   "execution_count": 4,
   "id": "8579dd4a",
   "metadata": {},
   "outputs": [
    {
     "name": "stdout",
     "output_type": "stream",
     "text": [
      "7\n"
     ]
    }
   ],
   "source": [
    "print(result)"
   ]
  },
  {
   "cell_type": "markdown",
   "id": "a2cde477",
   "metadata": {},
   "source": [
    "## 5. How many global scopes are there in a Python program? How many local scopes?"
   ]
  },
  {
   "cell_type": "raw",
   "id": "d606befc",
   "metadata": {},
   "source": [
    "In a Python program, there is one global scope and multiple local scopes.\n",
    "\n",
    "The global scope is the outermost scope in a Python program, and it is created when the program starts running.\n",
    "Any variables, functions, or classes defined in the global scope are accessible from anywhere within the program,\n",
    "including from within functions and classes defined in the program.\n",
    "\n",
    "Local scopes,are created whenever a function is called, and they exist only for the duration of that function call.\n",
    "Any variables, functions, or classes defined inside a function are accessible only within that function,\n",
    "and they are destroyed when the function completes execution."
   ]
  },
  {
   "cell_type": "code",
   "execution_count": 6,
   "id": "67585e48",
   "metadata": {},
   "outputs": [
    {
     "name": "stdout",
     "output_type": "stream",
     "text": [
      "10\n",
      "20\n"
     ]
    }
   ],
   "source": [
    "x = 10   # Global variable\n",
    "\n",
    "def fun():\n",
    "    y = 20   # Local variable\n",
    "    print(x)    # Accesses the global variable x\n",
    "    print(y)    # Accesses the local variable y\n",
    "\n",
    "fun()    # Calls the function foo()"
   ]
  },
  {
   "cell_type": "markdown",
   "id": "2dec9742",
   "metadata": {},
   "source": [
    "## 6. What happens to variables in a local scope when the function call returns?"
   ]
  },
  {
   "cell_type": "raw",
   "id": "96499868",
   "metadata": {},
   "source": [
    "When a function call returns in Python,\n",
    "any variables defined within the local scope of that function are destroyed and their values are lost.\n",
    "This means that the variables cannot be accessed or used outside the function once the function has completed execution."
   ]
  },
  {
   "cell_type": "code",
   "execution_count": 8,
   "id": "41c0fbe3",
   "metadata": {},
   "outputs": [
    {
     "name": "stdout",
     "output_type": "stream",
     "text": [
      "10\n"
     ]
    },
    {
     "ename": "NameError",
     "evalue": "name 'z' is not defined",
     "output_type": "error",
     "traceback": [
      "\u001b[1;31m---------------------------------------------------------------------------\u001b[0m",
      "\u001b[1;31mNameError\u001b[0m                                 Traceback (most recent call last)",
      "Cell \u001b[1;32mIn[8], line 7\u001b[0m\n\u001b[0;32m      3\u001b[0m     \u001b[38;5;28mprint\u001b[39m(z)    \u001b[38;5;66;03m# Outputs 10\u001b[39;00m\n\u001b[0;32m      5\u001b[0m fun()    \u001b[38;5;66;03m# Calls the function foo()\u001b[39;00m\n\u001b[1;32m----> 7\u001b[0m \u001b[38;5;28mprint\u001b[39m(\u001b[43mz\u001b[49m)\n",
      "\u001b[1;31mNameError\u001b[0m: name 'z' is not defined"
     ]
    }
   ],
   "source": [
    "def fun():\n",
    "    z = 10    # Local variable\n",
    "    print(z)    # Outputs 10\n",
    "\n",
    "fun()    # Calls the function foo()\n",
    "\n",
    "print(z)    # Raises a NameError because x is not defined in this scope"
   ]
  },
  {
   "cell_type": "markdown",
   "id": "f798c407",
   "metadata": {},
   "source": [
    "## 7. What is the concept of a return value? Is it possible to have a return value in an expression?"
   ]
  },
  {
   "cell_type": "raw",
   "id": "d346240d",
   "metadata": {},
   "source": [
    "In Python, a return value is the value that a function returns to the point in the program where the function was called.\n",
    "It is a way for a function to communicate its result or output back to the rest of the program.\n",
    "\n",
    "To specify a return value in a function,\n",
    "you can use the return statement followed by the value that you want to return to the calling code."
   ]
  },
  {
   "cell_type": "code",
   "execution_count": 9,
   "id": "efc6e035",
   "metadata": {},
   "outputs": [
    {
     "name": "stdout",
     "output_type": "stream",
     "text": [
      "7\n"
     ]
    }
   ],
   "source": [
    "def add_numbers(x, y):\n",
    "    \"\"\"This function adds two numbers and returns the result\"\"\"\n",
    "    result = x + y\n",
    "    return result\n",
    "\n",
    "sum = add_numbers(3, 4)\n",
    "print(sum)    "
   ]
  },
  {
   "cell_type": "code",
   "execution_count": 10,
   "id": "ced49e10",
   "metadata": {},
   "outputs": [
    {
     "name": "stdout",
     "output_type": "stream",
     "text": [
      "25\n"
     ]
    }
   ],
   "source": [
    "def square(x):\n",
    "    \"\"\"This function returns the square of a number\"\"\"\n",
    "    return x * x\n",
    "\n",
    "result = square(3) + square(4)\n",
    "print(result)    "
   ]
  },
  {
   "cell_type": "markdown",
   "id": "c3f9ad99",
   "metadata": {},
   "source": [
    "## 8. If a function does not have a return statement, what is the return value of a call to that function?"
   ]
  },
  {
   "cell_type": "raw",
   "id": "bfc9c1a4",
   "metadata": {},
   "source": [
    "If a function does not have a return statement, the return value of a call to that function is None.\n",
    "\n",
    "In Python, if a function does not explicitly return a value using the return statement,\n",
    "the function automatically returns None at the end of its execution.\n",
    "None is a built-in constant in Python that represents the absence of a value or a null value."
   ]
  },
  {
   "cell_type": "code",
   "execution_count": 11,
   "id": "7bf4468c",
   "metadata": {},
   "outputs": [
    {
     "name": "stdout",
     "output_type": "stream",
     "text": [
      "Hello, John. How are you doing?\n",
      "None\n"
     ]
    }
   ],
   "source": [
    "def greet(name):\n",
    "    \"\"\"This function greets the person passed in as parameter\"\"\"\n",
    "    print(\"Hello, \" + name + \". How are you doing?\")\n",
    "\n",
    "result = greet(\"John\")\n",
    "print(result)    # Outputs None"
   ]
  },
  {
   "cell_type": "markdown",
   "id": "8a2e4349",
   "metadata": {},
   "source": [
    "## 9. How do you make a function variable refer to the global variable?"
   ]
  },
  {
   "cell_type": "raw",
   "id": "ba4738c6",
   "metadata": {},
   "source": [
    "In Python, you can use the global keyword to indicate that a variable within a function should refer to the global variable\n",
    "with the same name."
   ]
  },
  {
   "cell_type": "code",
   "execution_count": 12,
   "id": "9251fad8",
   "metadata": {},
   "outputs": [
    {
     "name": "stdout",
     "output_type": "stream",
     "text": [
      "20\n",
      "20\n"
     ]
    }
   ],
   "source": [
    "x = 10    # Global variable\n",
    "\n",
    "def fun():\n",
    "    global x   # Declare x as global\n",
    "    x = 20    # Assign a new value to x\n",
    "    print(x)    # Outputs 20\n",
    "\n",
    "fun()    # Calls the function foo()\n",
    "\n",
    "print(x)    # Outputs 20"
   ]
  },
  {
   "cell_type": "markdown",
   "id": "fe8bcbf4",
   "metadata": {},
   "source": [
    "## 10. What is the data type of None?"
   ]
  },
  {
   "cell_type": "raw",
   "id": "d0ea1d22",
   "metadata": {},
   "source": [
    "In Python, None is a built-in constant that represents the absence of a value or a null value.\n",
    "It is often used to indicate that a variable or a function does not return a value or that a parameter has no default value.\n",
    "\n",
    "None is a singleton object of the NoneType data type.\n",
    "This means that there is only one None object in memory, and all references to None point to the same object."
   ]
  },
  {
   "cell_type": "code",
   "execution_count": 13,
   "id": "d2373b81",
   "metadata": {},
   "outputs": [
    {
     "name": "stdout",
     "output_type": "stream",
     "text": [
      "<class 'NoneType'>\n"
     ]
    }
   ],
   "source": [
    "x = None\n",
    "print(type(x))"
   ]
  },
  {
   "cell_type": "markdown",
   "id": "0cd78f89",
   "metadata": {},
   "source": [
    "## 11. What does the sentence import areallyourpetsnamederic do?"
   ]
  },
  {
   "cell_type": "raw",
   "id": "e4455748",
   "metadata": {},
   "source": [
    "The name areallyourpetsnamederic is not a valid module or package name in Python, so attempting to import it would result in a ModuleNotFoundError at runtime."
   ]
  },
  {
   "cell_type": "code",
   "execution_count": 14,
   "id": "1dcd9ee9",
   "metadata": {},
   "outputs": [
    {
     "ename": "ModuleNotFoundError",
     "evalue": "No module named 'areallyourpetsnamederic'",
     "output_type": "error",
     "traceback": [
      "\u001b[1;31m---------------------------------------------------------------------------\u001b[0m",
      "\u001b[1;31mModuleNotFoundError\u001b[0m                       Traceback (most recent call last)",
      "Cell \u001b[1;32mIn[14], line 1\u001b[0m\n\u001b[1;32m----> 1\u001b[0m \u001b[38;5;28;01mimport\u001b[39;00m \u001b[38;5;21;01mareallyourpetsnamederic\u001b[39;00m\n",
      "\u001b[1;31mModuleNotFoundError\u001b[0m: No module named 'areallyourpetsnamederic'"
     ]
    }
   ],
   "source": [
    "import areallyourpetsnamederic"
   ]
  },
  {
   "cell_type": "markdown",
   "id": "67cc9c31",
   "metadata": {},
   "source": [
    "## 12. If you had a bacon() feature in a spam module, what would you call it after importing spam?"
   ]
  },
  {
   "cell_type": "raw",
   "id": "c5018174",
   "metadata": {},
   "source": [
    "import spam\n",
    "\n",
    "spam.bacon()    "
   ]
  },
  {
   "cell_type": "markdown",
   "id": "ed4629eb",
   "metadata": {},
   "source": [
    "## 13. What can you do to save a programme from crashing if it encounters an error?"
   ]
  },
  {
   "cell_type": "raw",
   "id": "c4db3074",
   "metadata": {},
   "source": [
    "you can use error handling techniques to save a program from crashing if it encounters an error.\n",
    "By handling errors gracefully,\n",
    "you can prevent the program from terminating abruptly and provide a more user-friendly experience.\n",
    "\n",
    "One way to handle errors in Python is to use the try-except statement. \n",
    "The try block contains the code that might raise an error,\n",
    "and the except block contains the code that should be executed if an error occurs."
   ]
  },
  {
   "cell_type": "code",
   "execution_count": 15,
   "id": "c28eafb8",
   "metadata": {},
   "outputs": [
    {
     "name": "stdout",
     "output_type": "stream",
     "text": [
      "An error occurred\n"
     ]
    }
   ],
   "source": [
    "try:\n",
    "    # Code that might raise an error\n",
    "    x = 1 / 0    # Division by zero raises an error\n",
    "except:\n",
    "    # Code to handle the error\n",
    "    print(\"An error occurred\")"
   ]
  },
  {
   "cell_type": "markdown",
   "id": "38c3d9cf",
   "metadata": {},
   "source": [
    "## 14. What is the purpose of the try clause? What is the purpose of the except clause?"
   ]
  },
  {
   "cell_type": "raw",
   "id": "03ba1b60",
   "metadata": {},
   "source": [
    "try-except statement is used for error handling. The try clause contains the code that might raise an error,\n",
    "and the except clause contains the code that should be executed if an error occurs.\n",
    "\n",
    "The purpose of the try clause is to enclose the code that might raise an error.\n",
    "This allows the program to attempt to execute the code and catch any errors that might occur.\n",
    "\n",
    "The purpose of the except clause is to handle the error that occurred in the try clause.\n",
    "If an error occurs in the try clause, the program jumps to the except clause and executes the code inside it.\n",
    "The except clause can catch the error and handle it in a way that makes sense for the program."
   ]
  },
  {
   "cell_type": "code",
   "execution_count": 16,
   "id": "281574f7",
   "metadata": {},
   "outputs": [
    {
     "name": "stdout",
     "output_type": "stream",
     "text": [
      "Enter a number: 0\n",
      "Cannot divide by zero\n"
     ]
    }
   ],
   "source": [
    "try:\n",
    "    x = int(input(\"Enter a number: \"))\n",
    "    y = 10 / x\n",
    "    print(y)\n",
    "except ZeroDivisionError:\n",
    "    print(\"Cannot divide by zero\")\n",
    "except ValueError:\n",
    "    print(\"Invalid input\")"
   ]
  },
  {
   "cell_type": "markdown",
   "id": "51d1a071",
   "metadata": {},
   "source": [
    "## Thank You"
   ]
  },
  {
   "cell_type": "code",
   "execution_count": null,
   "id": "8513e4e9",
   "metadata": {},
   "outputs": [],
   "source": []
  }
 ],
 "metadata": {
  "kernelspec": {
   "display_name": "Python 3 (ipykernel)",
   "language": "python",
   "name": "python3"
  },
  "language_info": {
   "codemirror_mode": {
    "name": "ipython",
    "version": 3
   },
   "file_extension": ".py",
   "mimetype": "text/x-python",
   "name": "python",
   "nbconvert_exporter": "python",
   "pygments_lexer": "ipython3",
   "version": "3.10.9"
  }
 },
 "nbformat": 4,
 "nbformat_minor": 5
}
