{
 "cells": [
  {
   "cell_type": "markdown",
   "id": "916614a7",
   "metadata": {},
   "source": [
    "# Mohammed Saber "
   ]
  },
  {
   "cell_type": "markdown",
   "id": "eb412d10",
   "metadata": {},
   "source": [
    "## 1. What exactly is []?"
   ]
  },
  {
   "cell_type": "code",
   "execution_count": null,
   "id": "8cf6d7eb",
   "metadata": {},
   "outputs": [],
   "source": [
    "'''\n",
    "[] is an empty list literal, which represents a list with no elements.\n",
    "\n",
    "A list is a collection of values that are ordered and changeable.\n",
    "Lists are one of the most versatile data types in Python, and they can contain any type of value, including other lists.\n",
    "'''"
   ]
  },
  {
   "cell_type": "markdown",
   "id": "b1f47054",
   "metadata": {},
   "source": [
    "## 2. In a list of values stored in a variable called spam, how would you assign the value 'hello' as the third value? (Assume [2, 4, 6, 8, 10] are in spam.) Let's pretend the spam includes the list ['a', 'b', 'c', 'd'] for the next three queries.\n"
   ]
  },
  {
   "cell_type": "code",
   "execution_count": 1,
   "id": "40213ee9",
   "metadata": {},
   "outputs": [
    {
     "name": "stdout",
     "output_type": "stream",
     "text": [
      "[2, 4, 'hello', 8, 10]\n"
     ]
    }
   ],
   "source": [
    "spam = [2, 4, 6, 8, 10]\n",
    "spam[2] = 'hello'\n",
    "print(spam)"
   ]
  },
  {
   "cell_type": "markdown",
   "id": "f2998049",
   "metadata": {},
   "source": [
    "## 3. What is the value of spam[int(int('3' * 2) / 11)]?"
   ]
  },
  {
   "cell_type": "code",
   "execution_count": null,
   "id": "85909e31",
   "metadata": {},
   "outputs": [],
   "source": [
    "'''\n",
    "The expression int('3' * 2) evaluates to the string '33', which is then converted to an integer using the int() function,\n",
    "resulting in the integer 33.\n",
    "\n",
    "The expression int('33') / 11 evaluates to 3.0, since dividing 33 by 11 results in 3.0, which is a float.\n",
    "\n",
    "Taking the integer part of 3.0 using the int() function results in the integer 3.\n",
    "'''"
   ]
  },
  {
   "cell_type": "code",
   "execution_count": 2,
   "id": "405f0aad",
   "metadata": {},
   "outputs": [],
   "source": [
    "spam = ['a', 'b', 'c', 'd']   "
   ]
  },
  {
   "cell_type": "code",
   "execution_count": 3,
   "id": "987b4806",
   "metadata": {},
   "outputs": [
    {
     "data": {
      "text/plain": [
       "'d'"
      ]
     },
     "execution_count": 3,
     "metadata": {},
     "output_type": "execute_result"
    }
   ],
   "source": [
    "spam[int(int('3' * 2) / 11)]"
   ]
  },
  {
   "cell_type": "markdown",
   "id": "4cf4501d",
   "metadata": {},
   "source": [
    "## 4. What is the value of spam[-1]?"
   ]
  },
  {
   "cell_type": "code",
   "execution_count": null,
   "id": "46315715",
   "metadata": {},
   "outputs": [],
   "source": [
    "'''\n",
    "negative indices are used to access elements from the end of a list.\n",
    "The index -1 corresponds to the last element in the list, -2 corresponds to the second-last element, and so on.\n",
    "'''"
   ]
  },
  {
   "cell_type": "code",
   "execution_count": 4,
   "id": "f06811c3",
   "metadata": {},
   "outputs": [
    {
     "data": {
      "text/plain": [
       "'d'"
      ]
     },
     "execution_count": 4,
     "metadata": {},
     "output_type": "execute_result"
    }
   ],
   "source": [
    "spam[-1]"
   ]
  },
  {
   "cell_type": "markdown",
   "id": "78426712",
   "metadata": {},
   "source": [
    "## 5. What is the value of spam[:2]?"
   ]
  },
  {
   "cell_type": "code",
   "execution_count": null,
   "id": "0142745d",
   "metadata": {},
   "outputs": [],
   "source": [
    "'''\n",
    "list slicing is used to extract a portion of a list, specified by a range of indices.\n",
    "The syntax for list slicing is list[start:end:step], where start is the index of the first element to include,\n",
    "end is the index of the first element to exclude, and step is the increment between elements.\n",
    "'''"
   ]
  },
  {
   "cell_type": "code",
   "execution_count": 5,
   "id": "2b1d60ae",
   "metadata": {},
   "outputs": [
    {
     "data": {
      "text/plain": [
       "['a', 'b']"
      ]
     },
     "execution_count": 5,
     "metadata": {},
     "output_type": "execute_result"
    }
   ],
   "source": [
    "spam[:2]"
   ]
  },
  {
   "cell_type": "markdown",
   "id": "9f230fda",
   "metadata": {},
   "source": [
    "## 6. What is the value of bacon.index('cat')?"
   ]
  },
  {
   "cell_type": "code",
   "execution_count": null,
   "id": "b00036fe",
   "metadata": {},
   "outputs": [],
   "source": [
    "'''\n",
    "index() method is used to find the index of the first occurrence of a specified value in a list.\n",
    "The index() method is a built-in method that can be called on any list object.\n",
    "'''"
   ]
  },
  {
   "cell_type": "code",
   "execution_count": 6,
   "id": "50e9894a",
   "metadata": {},
   "outputs": [],
   "source": [
    "bacon = [3.14, 'cat' , 11, 'cat', True] "
   ]
  },
  {
   "cell_type": "code",
   "execution_count": 7,
   "id": "37efdfe9",
   "metadata": {},
   "outputs": [
    {
     "data": {
      "text/plain": [
       "1"
      ]
     },
     "execution_count": 7,
     "metadata": {},
     "output_type": "execute_result"
    }
   ],
   "source": [
    "bacon.index('cat')"
   ]
  },
  {
   "cell_type": "markdown",
   "id": "ee49f720",
   "metadata": {},
   "source": [
    "## 7. How does bacon.append(99) change the look of the list value in bacon?"
   ]
  },
  {
   "cell_type": "code",
   "execution_count": null,
   "id": "ec35a82f",
   "metadata": {},
   "outputs": [],
   "source": [
    "'''\n",
    "The append() method is used to add a single item to the end of a list.\n",
    "When you call bacon.append(99), the value 99 is added to the end of the list bacon.\n",
    "'''"
   ]
  },
  {
   "cell_type": "code",
   "execution_count": 8,
   "id": "3d0eaf67",
   "metadata": {},
   "outputs": [
    {
     "data": {
      "text/plain": [
       "[3.14, 'cat', 11, 'cat', True, 99]"
      ]
     },
     "execution_count": 8,
     "metadata": {},
     "output_type": "execute_result"
    }
   ],
   "source": [
    "bacon.append(99)\n",
    "bacon"
   ]
  },
  {
   "cell_type": "markdown",
   "id": "ff551894",
   "metadata": {},
   "source": [
    "## 8. How does bacon.remove('cat') change the look of the list in bacon?"
   ]
  },
  {
   "cell_type": "code",
   "execution_count": null,
   "id": "42fa02c8",
   "metadata": {},
   "outputs": [],
   "source": [
    "'''\n",
    "The remove() method is used to remove the first occurrence of a specified item from a list. \n",
    "When you call bacon.remove('cat'), the first occurrence of the string 'cat' is removed from the list bacon,if it exists.\n",
    "'''"
   ]
  },
  {
   "cell_type": "code",
   "execution_count": 9,
   "id": "85cd40ed",
   "metadata": {},
   "outputs": [
    {
     "data": {
      "text/plain": [
       "[3.14, 11, 'cat', True, 99]"
      ]
     },
     "execution_count": 9,
     "metadata": {},
     "output_type": "execute_result"
    }
   ],
   "source": [
    "bacon.remove('cat')\n",
    "bacon"
   ]
  },
  {
   "cell_type": "markdown",
   "id": "b2749e4f",
   "metadata": {},
   "source": [
    "## 9. What are the list concatenation and list replication operators?"
   ]
  },
  {
   "cell_type": "code",
   "execution_count": null,
   "id": "69056a61",
   "metadata": {},
   "outputs": [],
   "source": [
    "'''\n",
    "there are two operators that can be used with lists: the list concatenation operator + and the list replication operator *.\n",
    "\n",
    "The list concatenation operator + is used to combine two lists into a single list.\n",
    "When you use the + operator on two lists,\n",
    "a new list is created that contains all the elements of the first list followed by all the elements of the second list.\n",
    "\n",
    "The list replication operator * is used to create a new list by replicating an existing list a specified number of times. \n",
    "When you use the * operator on a list and an integer, \n",
    "a new list is created that contains the elements of the original list repeated the specified number of times\n",
    "'''"
   ]
  },
  {
   "cell_type": "code",
   "execution_count": 10,
   "id": "6449535b",
   "metadata": {},
   "outputs": [
    {
     "name": "stdout",
     "output_type": "stream",
     "text": [
      "[1, 2, 3, 4, 5, 6]\n"
     ]
    }
   ],
   "source": [
    "list1 = [1, 2, 3]\n",
    "list2 = [4, 5, 6]\n",
    "concatenated_list = list1 + list2\n",
    "print(concatenated_list)"
   ]
  },
  {
   "cell_type": "code",
   "execution_count": 11,
   "id": "cdf90ffb",
   "metadata": {},
   "outputs": [
    {
     "name": "stdout",
     "output_type": "stream",
     "text": [
      "[1, 2, 3, 1, 2, 3, 1, 2, 3]\n"
     ]
    }
   ],
   "source": [
    "list1 = [1, 2, 3]\n",
    "replicated_list = list1 * 3\n",
    "print(replicated_list) "
   ]
  },
  {
   "cell_type": "markdown",
   "id": "1104a0ac",
   "metadata": {},
   "source": [
    "## 10. What is difference between the list methods append() and insert()?"
   ]
  },
  {
   "cell_type": "code",
   "execution_count": null,
   "id": "dd13cb4a",
   "metadata": {},
   "outputs": [],
   "source": [
    "'''\n",
    "Both the append() and insert() methods are used to add elements to a list in Python,\n",
    "but they differ in how they add elements to the list.\n",
    "\n",
    "The append() method is used to add an element to the end of a list. When you call append() on a list with an argument,\n",
    "the argument is added to the end of the list.\n",
    "\n",
    "The insert() method, on the other hand, is used to add an element to a specific position in the list.\n",
    "When you call insert() on a list with two arguments, the first argument is the index at which to insert the new element,\n",
    "and the second argument is the element to be inserted.\n",
    "'''"
   ]
  },
  {
   "cell_type": "code",
   "execution_count": 12,
   "id": "f7401156",
   "metadata": {},
   "outputs": [
    {
     "name": "stdout",
     "output_type": "stream",
     "text": [
      "[1, 2, 3, 4]\n"
     ]
    }
   ],
   "source": [
    "my_list = [1, 2, 3]\n",
    "my_list.append(4)\n",
    "print(my_list)"
   ]
  },
  {
   "cell_type": "code",
   "execution_count": 13,
   "id": "33ae897a",
   "metadata": {},
   "outputs": [
    {
     "name": "stdout",
     "output_type": "stream",
     "text": [
      "[1, 4, 2, 3]\n"
     ]
    }
   ],
   "source": [
    "my_list = [1, 2, 3]\n",
    "my_list.insert(1, 4)\n",
    "print(my_list) "
   ]
  },
  {
   "cell_type": "markdown",
   "id": "a598811d",
   "metadata": {},
   "source": [
    "## 11. What are the two methods for removing items from a list?"
   ]
  },
  {
   "cell_type": "code",
   "execution_count": null,
   "id": "bd885ea1",
   "metadata": {},
   "outputs": [],
   "source": [
    "'''\n",
    "there are two methods for removing items from a list: remove() and pop().\n",
    "    \n",
    "The remove() method is used to remove the first occurrence of a specified item from a list.\n",
    "When you call remove() on a list with an argument, the first occurrence of the argument in the list is removed.\n",
    "\n",
    "The pop() method, on the other hand, is used to remove an element from a specific position in the list and return its value.\n",
    "When you call pop() on a list with an optional argument,\n",
    "the argument is the index of the element to remove. If no argument is provided, the last element of the list is removed.\n",
    "'''"
   ]
  },
  {
   "cell_type": "code",
   "execution_count": 14,
   "id": "5d3441a5",
   "metadata": {},
   "outputs": [
    {
     "name": "stdout",
     "output_type": "stream",
     "text": [
      "[1, 2, 4, 5]\n"
     ]
    }
   ],
   "source": [
    "my_list = [1, 2, 3, 4, 5]\n",
    "my_list.remove(3)\n",
    "print(my_list) "
   ]
  },
  {
   "cell_type": "code",
   "execution_count": 15,
   "id": "a3f78446",
   "metadata": {},
   "outputs": [
    {
     "name": "stdout",
     "output_type": "stream",
     "text": [
      "[1, 2, 4, 5]\n",
      "3\n"
     ]
    }
   ],
   "source": [
    "my_list = [1, 2, 3, 4, 5]\n",
    "removed_item = my_list.pop(2)\n",
    "print(my_list)        # Outputs [1, 2, 4, 5]\n",
    "print(removed_item)"
   ]
  },
  {
   "cell_type": "markdown",
   "id": "1c862cad",
   "metadata": {},
   "source": [
    "## 12. Describe how list values and string values are identical."
   ]
  },
  {
   "cell_type": "code",
   "execution_count": null,
   "id": "13f58a29",
   "metadata": {},
   "outputs": [],
   "source": [
    "'''\n",
    "lists and strings are similar in some ways because they are both sequences of values.\n",
    "However, there are also some differences between them.\n",
    "\n",
    "One way in which lists and strings are similar is that they can both be indexed and sliced. \n",
    "This means that you can access individual elements of a list or a string by their index, \n",
    "and you can extract a portion of a list or a string by specifying a range of indices.\n",
    "'''"
   ]
  },
  {
   "cell_type": "code",
   "execution_count": 16,
   "id": "67dc3c28",
   "metadata": {},
   "outputs": [],
   "source": [
    "my_list = [1, 2, 3, 4, 5]\n",
    "my_string = \"hello, world\""
   ]
  },
  {
   "cell_type": "code",
   "execution_count": 17,
   "id": "8a156e0d",
   "metadata": {},
   "outputs": [],
   "source": [
    "first_element_of_list = my_list[0]      \n",
    "first_character_of_string = my_string[0]"
   ]
  },
  {
   "cell_type": "code",
   "execution_count": 18,
   "id": "0b834ddb",
   "metadata": {},
   "outputs": [
    {
     "name": "stdout",
     "output_type": "stream",
     "text": [
      "1\n",
      "h\n"
     ]
    }
   ],
   "source": [
    "print(first_element_of_list)\n",
    "print(first_character_of_string)"
   ]
  },
  {
   "cell_type": "code",
   "execution_count": 19,
   "id": "30c94811",
   "metadata": {},
   "outputs": [],
   "source": [
    "subset_of_list = my_list[1:4]      \n",
    "subset_of_string = my_string[0:5]"
   ]
  },
  {
   "cell_type": "code",
   "execution_count": 20,
   "id": "ee8e7a7a",
   "metadata": {},
   "outputs": [
    {
     "name": "stdout",
     "output_type": "stream",
     "text": [
      "[2, 3, 4]\n",
      "hello\n"
     ]
    }
   ],
   "source": [
    "print(subset_of_list)\n",
    "print(subset_of_string)"
   ]
  },
  {
   "cell_type": "markdown",
   "id": "c004ac05",
   "metadata": {},
   "source": [
    "## 13. What's the difference between tuples and lists?"
   ]
  },
  {
   "cell_type": "code",
   "execution_count": null,
   "id": "ffaecd4e",
   "metadata": {},
   "outputs": [],
   "source": [
    "'''\n",
    "tuples and lists are both used to store collections of items, but there are some key differences between them.\n",
    "\n",
    "Mutability: Tuples are immutable, which means that once a tuple is created, its elements cannot be modified. Lists,\n",
    "on the other hand, are mutable, which means that you can add, remove,\n",
    "or modify elements of a list after it has been created.\n",
    "\n",
    "Syntax: Tuples are defined using parentheses () while lists are defined using square brackets [].\n",
    "\n",
    "Performance: Tuples are generally faster than lists because they are immutable,\n",
    "which means that they can be optimized by the interpreter. Lists, on the other hand,\n",
    "are slower because adding or removing elements requires resizing the list, which can be an expensive operation.\n",
    "\n",
    "Usage: Tuples are often used to represent a fixed collection of elements, \n",
    "such as the coordinates of a point or a date (year, month, day). Lists, on the other hand, \n",
    "are often used when the collection of elements can change over time, such as a list of tasks in a to-do list app.\n",
    "'''"
   ]
  },
  {
   "cell_type": "markdown",
   "id": "f38c6cd9",
   "metadata": {},
   "source": [
    "## 14. How do you type a tuple value that only contains the integer 42?"
   ]
  },
  {
   "cell_type": "code",
   "execution_count": 21,
   "id": "5c4d3f3d",
   "metadata": {},
   "outputs": [
    {
     "data": {
      "text/plain": [
       "(42,)"
      ]
     },
     "execution_count": 21,
     "metadata": {},
     "output_type": "execute_result"
    }
   ],
   "source": [
    "my_tuple = tuple([42])\n",
    "my_tuple"
   ]
  },
  {
   "cell_type": "markdown",
   "id": "0f7b3144",
   "metadata": {},
   "source": [
    "## 15. How do you get a list value's tuple form? How do you get a tuple value's list form?"
   ]
  },
  {
   "cell_type": "code",
   "execution_count": 22,
   "id": "d3ceff80",
   "metadata": {},
   "outputs": [
    {
     "name": "stdout",
     "output_type": "stream",
     "text": [
      "(1, 2, 3, 4)\n"
     ]
    }
   ],
   "source": [
    "my_list = [1, 2, 3, 4]\n",
    "my_tuple = tuple(my_list)\n",
    "print(my_tuple)"
   ]
  },
  {
   "cell_type": "code",
   "execution_count": 23,
   "id": "d215218a",
   "metadata": {},
   "outputs": [
    {
     "name": "stdout",
     "output_type": "stream",
     "text": [
      "[1, 2, 3, 4]\n"
     ]
    }
   ],
   "source": [
    "my_tuple = (1, 2, 3, 4)\n",
    "my_list = list(my_tuple)\n",
    "print(my_list)"
   ]
  },
  {
   "cell_type": "markdown",
   "id": "d34653f3",
   "metadata": {},
   "source": [
    "## 16. Variables that \"contain\" list values are not necessarily lists themselves. Instead, what do they contain?"
   ]
  },
  {
   "cell_type": "code",
   "execution_count": null,
   "id": "46c04072",
   "metadata": {},
   "outputs": [],
   "source": [
    "'''\n",
    "variables that \"contain\" list values are actually references to the list objects themselves.\n",
    "This means that the variable contains a memory address that points to the location in memory where the list is stored,\n",
    "rather than the actual list values.\n",
    "\n",
    "When you create a list and assign it to a variable, the variable stores a reference to the list object in memory.\n",
    "This reference can be thought of as a pointer to the location in memory where the list is stored.\n",
    "When you access or modify the list through the variable, \n",
    "you are actually accessing or modifying the list object in memory through this reference.\n",
    "'''"
   ]
  },
  {
   "cell_type": "code",
   "execution_count": 24,
   "id": "6d37702a",
   "metadata": {},
   "outputs": [],
   "source": [
    "my_list = [1, 2, 3, 4]\n",
    "my_other_list = my_list"
   ]
  },
  {
   "cell_type": "code",
   "execution_count": 25,
   "id": "c50e0f3d",
   "metadata": {},
   "outputs": [
    {
     "name": "stdout",
     "output_type": "stream",
     "text": [
      "[1, 2, 3, 4, 5]\n"
     ]
    }
   ],
   "source": [
    "my_list.append(5)\n",
    "print(my_other_list)"
   ]
  },
  {
   "cell_type": "markdown",
   "id": "853fcc55",
   "metadata": {},
   "source": [
    "## 17. How do you distinguish between copy.copy() and copy.deepcopy()?"
   ]
  },
  {
   "cell_type": "code",
   "execution_count": null,
   "id": "791e9842",
   "metadata": {},
   "outputs": [],
   "source": [
    "'''\n",
    "the copy() function and the deepcopy() function are used to create copies of objects.\n",
    "The main difference between them is how they handle nested objects.\n",
    "\n",
    "The copy() function creates a shallow copy of an object.\n",
    "This means that it creates a new object with the same contents as the original object,\n",
    "but the new object may contain references to the same nested objects as the original object. In other words,\n",
    "the references to nested objects are copied, but the nested objects themselves are not copied.\n",
    "'''"
   ]
  },
  {
   "cell_type": "code",
   "execution_count": 26,
   "id": "271ea6ad",
   "metadata": {},
   "outputs": [
    {
     "name": "stdout",
     "output_type": "stream",
     "text": [
      "[[5, 2], [3, 4]]\n"
     ]
    }
   ],
   "source": [
    "import copy\n",
    "\n",
    "original_list = [[1, 2], [3, 4]]\n",
    "shallow_copy = copy.copy(original_list)\n",
    "\n",
    "# Modify the nested list in the original\n",
    "original_list[0][0] = 5\n",
    "\n",
    "# Check the values of the shallow copy\n",
    "print(shallow_copy) "
   ]
  },
  {
   "cell_type": "code",
   "execution_count": null,
   "id": "ac833603",
   "metadata": {},
   "outputs": [],
   "source": [
    "'''\n",
    "The deepcopy() function, on the other hand, creates a deep copy of an object.\n",
    "This means that it creates a new object with the same contents as the original object,\n",
    "and it also creates copies of any nested objects. In other words,\n",
    "both the references to nested objects and the nested objects themselves are copied.\n",
    "'''"
   ]
  },
  {
   "cell_type": "code",
   "execution_count": 27,
   "id": "17dc1183",
   "metadata": {},
   "outputs": [
    {
     "name": "stdout",
     "output_type": "stream",
     "text": [
      "[[1, 2], [3, 4]]\n"
     ]
    }
   ],
   "source": [
    "import copy\n",
    "\n",
    "original_list = [[1, 2], [3, 4]]\n",
    "deep_copy = copy.deepcopy(original_list)\n",
    "\n",
    "# Modify the nested list in the original\n",
    "original_list[0][0] = 5\n",
    "\n",
    "# Check the values of the deep copy\n",
    "print(deep_copy)"
   ]
  },
  {
   "cell_type": "code",
   "execution_count": null,
   "id": "962198a5",
   "metadata": {},
   "outputs": [],
   "source": [
    "'''\n",
    "the copy() function creates a shallow copy of an object,\n",
    "which means that it creates a new object with the same contents as the original object,\n",
    "but the new object may contain references to the same nested objects as the original object.\n",
    "The deepcopy() function creates a deep copy of an object,\n",
    "which means that it creates a new object with the same contents as the original object,\n",
    "and it also creates copies of any nested objects.\n",
    "'''"
   ]
  },
  {
   "cell_type": "markdown",
   "id": "f710956a",
   "metadata": {},
   "source": [
    "## Thank You"
   ]
  }
 ],
 "metadata": {
  "kernelspec": {
   "display_name": "Python 3 (ipykernel)",
   "language": "python",
   "name": "python3"
  },
  "language_info": {
   "codemirror_mode": {
    "name": "ipython",
    "version": 3
   },
   "file_extension": ".py",
   "mimetype": "text/x-python",
   "name": "python",
   "nbconvert_exporter": "python",
   "pygments_lexer": "ipython3",
   "version": "3.10.9"
  }
 },
 "nbformat": 4,
 "nbformat_minor": 5
}
