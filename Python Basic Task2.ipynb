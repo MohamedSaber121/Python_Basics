{
 "cells": [
  {
   "cell_type": "markdown",
   "id": "1f08c046",
   "metadata": {},
   "source": [
    "## 1.What are the two values of the Boolean data type? How do you write them?"
   ]
  },
  {
   "cell_type": "raw",
   "id": "00cbce99",
   "metadata": {},
   "source": [
    "The Boolean data type represents a logical value that can be either True or False.\n",
    "These are the only two possible values for a Boolean variable.\n",
    "In Python, we write True to represent the Boolean value of true, and False to represent the Boolean value of false."
   ]
  },
  {
   "cell_type": "code",
   "execution_count": 1,
   "id": "7e685281",
   "metadata": {},
   "outputs": [],
   "source": [
    "Is_good =True\n",
    "Is_bad  =False"
   ]
  },
  {
   "cell_type": "markdown",
   "id": "8e79164e",
   "metadata": {},
   "source": [
    "## 2. What are the three different types of Boolean operators?"
   ]
  },
  {
   "cell_type": "raw",
   "id": "84e1699a",
   "metadata": {},
   "source": [
    "The three different types of Boolean operators are:\n",
    "AND Operator: It is denoted by the symbol \"&&\" or \"AND\". It returns true only if both the operands are true, otherwise, it returns false.\n",
    "OR Operator: It is denoted by the symbol \"||\" or \"OR\". It returns true if at least one of the operands is true, otherwise, it returns false.\n",
    "NOT Operator: It is denoted by the symbol \"!\" or \"NOT\". It returns the opposite of the boolean value of the operand. If the operand is true, then it returns false, and if the operand is false, then it returns true."
   ]
  },
  {
   "cell_type": "markdown",
   "id": "c3cea324",
   "metadata": {},
   "source": [
    "## 3. Make a list of each Boolean operator's truth tables (i.e. every possible combination of Boolean values for the operator and what it evaluate )."
   ]
  },
  {
   "cell_type": "raw",
   "id": "fcebb5d0",
   "metadata": {},
   "source": [
    "ure, here are the truth tables for each Boolean operator in Python:\n",
    "\n",
    "and operator truth table:\n",
    "Operand 1\tOperand 2\tResult\n",
    "True\t    True\t    -> True\n",
    "True\t    False\t    -> False\n",
    "False\t    True\t    -> False\n",
    "False\t    False\t    -> False\n",
    "In Python, you can use the and keyword to apply the and operator to two Boolean values.\n",
    "\n",
    "or operator truth table:\n",
    "Operand 1\tOperand 2\tResult\n",
    "True\t    True\t    -> True\n",
    "True\t    False\t    -> True\n",
    "False\t    True\t    -> True\n",
    "False\t    False\t    -> False\n",
    "In Python, you can use the or keyword to apply the or operator to two Boolean values.\n",
    "\n",
    "not operator truth table:\n",
    "Operand\tResult\n",
    "True\t-> False\n",
    "False\t-> True\n",
    "In Python, you can use the not keyword to apply the not operator to a single Boolean value.\n",
    "\n",
    "These truth tables show the result of applying each Boolean operator to all possible combinations of Boolean values for its operands in Python."
   ]
  },
  {
   "cell_type": "markdown",
   "id": "c2fe275e",
   "metadata": {},
   "source": [
    "## 4. What are the values of the following expressions?"
   ]
  },
  {
   "cell_type": "raw",
   "id": "e489cc90",
   "metadata": {},
   "source": [
    "(5 > 4) and (3 == 5) -> False\n",
    "not (5 > 4)-> False\n",
    "(5 > 4) or (3 == 5)-> True\n",
    "not ((5 > 4) or (3 == 5))-> False\n",
    "(True and True) and (True == False)-> False\n",
    "(not False) or (not True)-> True"
   ]
  },
  {
   "cell_type": "code",
   "execution_count": 2,
   "id": "deb77040",
   "metadata": {},
   "outputs": [
    {
     "data": {
      "text/plain": [
       "False"
      ]
     },
     "execution_count": 2,
     "metadata": {},
     "output_type": "execute_result"
    }
   ],
   "source": [
    "(5 > 4) and (3 == 5)"
   ]
  },
  {
   "cell_type": "code",
   "execution_count": 3,
   "id": "275ad5ee",
   "metadata": {},
   "outputs": [
    {
     "data": {
      "text/plain": [
       "False"
      ]
     },
     "execution_count": 3,
     "metadata": {},
     "output_type": "execute_result"
    }
   ],
   "source": [
    "not (5 > 4)"
   ]
  },
  {
   "cell_type": "code",
   "execution_count": 4,
   "id": "426a3838",
   "metadata": {},
   "outputs": [
    {
     "data": {
      "text/plain": [
       "True"
      ]
     },
     "execution_count": 4,
     "metadata": {},
     "output_type": "execute_result"
    }
   ],
   "source": [
    "(5 > 4) or (3 == 5)"
   ]
  },
  {
   "cell_type": "code",
   "execution_count": 5,
   "id": "0c45e45f",
   "metadata": {},
   "outputs": [
    {
     "data": {
      "text/plain": [
       "False"
      ]
     },
     "execution_count": 5,
     "metadata": {},
     "output_type": "execute_result"
    }
   ],
   "source": [
    "not ((5 > 4) or (3 == 5))"
   ]
  },
  {
   "cell_type": "code",
   "execution_count": 6,
   "id": "59d94af4",
   "metadata": {},
   "outputs": [
    {
     "data": {
      "text/plain": [
       "False"
      ]
     },
     "execution_count": 6,
     "metadata": {},
     "output_type": "execute_result"
    }
   ],
   "source": [
    "(True and True) and (True == False)"
   ]
  },
  {
   "cell_type": "code",
   "execution_count": 7,
   "id": "dc3bea90",
   "metadata": {},
   "outputs": [
    {
     "data": {
      "text/plain": [
       "True"
      ]
     },
     "execution_count": 7,
     "metadata": {},
     "output_type": "execute_result"
    }
   ],
   "source": [
    "(not False) or (not True)"
   ]
  },
  {
   "cell_type": "markdown",
   "id": "eed8ef65",
   "metadata": {},
   "source": [
    "## 5. What are the six comparison operators?"
   ]
  },
  {
   "cell_type": "raw",
   "id": "0a184800",
   "metadata": {},
   "source": [
    "The six comparison operators in most programming languages, including Python, are:\n",
    "\n",
    "> (greater than): returns True if the left operand is greater than the right operand, and False otherwise.\n",
    "< (less than): returns True if the left operand is less than the right operand, and False otherwise.\n",
    ">= (greater than or equal to): returns True if the left operand is greater than or equal to the right operand, and False otherwise.\n",
    "<= (less than or equal to): returns True if the left operand is less than or equal to the right operand, and False otherwise.\n",
    "== (equal to): returns True if the left operand is equal to the right operand, and False otherwise.\n",
    "!= (not equal to): returns True if the left operand is not equal to the right operand, and False otherwise."
   ]
  },
  {
   "cell_type": "markdown",
   "id": "faa5da27",
   "metadata": {},
   "source": [
    "##  6. How do you tell the difference between the equal to and assignment operators?Describe a condition and when you would use one."
   ]
  },
  {
   "cell_type": "raw",
   "id": "30456fb3",
   "metadata": {},
   "source": [
    "In most programming languages, including Python, the = symbol is used as the assignment operator, and the == symbol is used\n",
    "as the equal to operator.\n",
    "The assignment operator is used to assign a value to a variable. For example:\n",
    "x = 5\n",
    "This assigns the value 5 to the variable x. \n",
    "\n",
    "on the other hand, == is used to compare two values.\n",
    "x == 5\n",
    "This compares the value of x to 5, and returns True if they are equal, and False otherwise."
   ]
  },
  {
   "cell_type": "code",
   "execution_count": 8,
   "id": "cbddf5bb",
   "metadata": {},
   "outputs": [
    {
     "name": "stdout",
     "output_type": "stream",
     "text": [
      "x is equal to 5\n"
     ]
    }
   ],
   "source": [
    "x = 5\n",
    "if x == 5:\n",
    "    print(\"x is equal to 5\")\n",
    "else:\n",
    "    print(\"x is not equal to 5\")"
   ]
  },
  {
   "cell_type": "markdown",
   "id": "170a1366",
   "metadata": {},
   "source": [
    "## 7. Identify the three blocks in this code:"
   ]
  },
  {
   "cell_type": "code",
   "execution_count": 9,
   "id": "8396c089",
   "metadata": {},
   "outputs": [],
   "source": [
    "## ->  assigns the value 0 to the variable spam.\n",
    "spam = 0 "
   ]
  },
  {
   "cell_type": "code",
   "execution_count": 10,
   "id": "8218c98b",
   "metadata": {},
   "outputs": [],
   "source": [
    " ## -> if statement (if spam == 10:) checks if the value of spam is equal to 10, and if it is,\n",
    "##it prints the string 'eggs'. Since spam is not equal to 10 in this case, 'eggs' is not printed. \n",
    "if spam == 10:\n",
    "    print('eggs')"
   ]
  },
  {
   "cell_type": "code",
   "execution_count": 11,
   "id": "157d66e3",
   "metadata": {},
   "outputs": [
    {
     "name": "stdout",
     "output_type": "stream",
     "text": [
      "ham\n"
     ]
    }
   ],
   "source": [
    "## ## -> checks if the value of spam is greater than 5, and if it is, it prints the string 'bacon'.\n",
    "##Since the value of spam is not greater than 5 (it's 0), 'bacon' is not printed.\n",
    "##Instead, the else statement is executed, which prints the string 'ham'.\n",
    "\n",
    "if spam > 5: \n",
    "    print('bacon')\n",
    "else:\n",
    "    print('ham')"
   ]
  },
  {
   "cell_type": "code",
   "execution_count": 12,
   "id": "5251c395",
   "metadata": {},
   "outputs": [
    {
     "name": "stdout",
     "output_type": "stream",
     "text": [
      "spam\n",
      "spam\n"
     ]
    }
   ],
   "source": [
    "##two print statements, which print the strings 'spam' and 'spam' on separate lines.\n",
    "print('spam')\n",
    "print('spam')"
   ]
  },
  {
   "cell_type": "markdown",
   "id": "91b275b3",
   "metadata": {},
   "source": [
    "## 8. Write code that prints Hello if 1 is stored in spam, prints Howdy if 2 is stored in spam, and prints Greetings! if anything else is stored in spam."
   ]
  },
  {
   "cell_type": "code",
   "execution_count": 13,
   "id": "07659013",
   "metadata": {},
   "outputs": [
    {
     "name": "stdout",
     "output_type": "stream",
     "text": [
      "Enter a value for spam: 2\n",
      "Howdy\n"
     ]
    }
   ],
   "source": [
    "spam = input(\"Enter a value for spam: \")\n",
    "\n",
    "if spam == '1':\n",
    "    print(\"Hello\")\n",
    "elif spam == '2':\n",
    "    print(\"Howdy\")\n",
    "else:\n",
    "    print(\"Greetings!\")"
   ]
  },
  {
   "cell_type": "markdown",
   "id": "25bfc177",
   "metadata": {},
   "source": [
    "## 9.If your programme is stuck in an endless loop, what keys you’ll press?"
   ]
  },
  {
   "cell_type": "raw",
   "id": "dc3a0d92",
   "metadata": {},
   "source": [
    "Ctrl-C"
   ]
  },
  {
   "cell_type": "markdown",
   "id": "b39f0c10",
   "metadata": {},
   "source": [
    "## 10. How can you tell the difference between break and continue?"
   ]
  },
  {
   "cell_type": "raw",
   "id": "30f268a6",
   "metadata": {},
   "source": [
    "In Python, break and continue are two different keywords that are used inside loops to alter their normal flow of execution.\n",
    "break is used to immediately terminate a loop, regardless of whether the loop condition has been met or not.\n",
    "When a break statement is executed inside a loop, control is transferred to the statement immediately following the loop.\n",
    "This means that the loop is exited prematurely, without executing any remaining iterations of the loop."
   ]
  },
  {
   "cell_type": "code",
   "execution_count": 14,
   "id": "0f343fe1",
   "metadata": {},
   "outputs": [
    {
     "name": "stdout",
     "output_type": "stream",
     "text": [
      "1\n",
      "2\n"
     ]
    }
   ],
   "source": [
    "for i in range(1, 5):\n",
    "    if i == 3:\n",
    "        break\n",
    "    print(i)"
   ]
  },
  {
   "cell_type": "raw",
   "id": "ea22774f",
   "metadata": {},
   "source": [
    "continue is used to skip the current iteration of a loop and proceed to the next iteration.\n",
    "When a continue statement is executed inside a loop, control is transferred to the loop condition,\n",
    "which is evaluated again to determine whether to execute the next iteration of the loop."
   ]
  },
  {
   "cell_type": "code",
   "execution_count": 15,
   "id": "379767bf",
   "metadata": {},
   "outputs": [
    {
     "name": "stdout",
     "output_type": "stream",
     "text": [
      "1\n",
      "2\n",
      "4\n"
     ]
    }
   ],
   "source": [
    "for i in range(1, 5):\n",
    "    if i == 3:\n",
    "        continue\n",
    "    print(i)"
   ]
  },
  {
   "cell_type": "markdown",
   "id": "a3fc554b",
   "metadata": {},
   "source": [
    "## 11. In a for loop, what is the difference between range(10), range(0, 10), and range(0, 10, 1)?"
   ]
  },
  {
   "cell_type": "raw",
   "id": "c03bfa1b",
   "metadata": {},
   "source": [
    "range(10) generates a sequence of numbers from 0 to 9 (i.e., 10 numbers in total).\n",
    "This is equivalent to range(0, 10), where 0 is the default value for the start parameter."
   ]
  },
  {
   "cell_type": "raw",
   "id": "7ce018f1",
   "metadata": {},
   "source": [
    "range(0, 10) generates a sequence of numbers from 0 to 9 (i.e., 10 numbers in total), with a step of 1.\n",
    "This is equivalent to range(10)."
   ]
  },
  {
   "cell_type": "raw",
   "id": "d5357715",
   "metadata": {},
   "source": [
    "range(0, 10, 1) generates a sequence of numbers from 0 to 9 (i.e., 10 numbers in total),\n",
    "with a step of 1. This is equivalent to range(0, 10)."
   ]
  },
  {
   "cell_type": "code",
   "execution_count": 16,
   "id": "77a9e190",
   "metadata": {},
   "outputs": [
    {
     "name": "stdout",
     "output_type": "stream",
     "text": [
      "0\n",
      "1\n",
      "2\n",
      "3\n",
      "4\n"
     ]
    }
   ],
   "source": [
    "for i in range(5):\n",
    "    print(i)"
   ]
  },
  {
   "cell_type": "code",
   "execution_count": 17,
   "id": "6d01d056",
   "metadata": {},
   "outputs": [
    {
     "name": "stdout",
     "output_type": "stream",
     "text": [
      "0\n",
      "1\n",
      "2\n",
      "3\n",
      "4\n"
     ]
    }
   ],
   "source": [
    "for i in range(0, 5):\n",
    "    print(i)"
   ]
  },
  {
   "cell_type": "code",
   "execution_count": 18,
   "id": "17477e4b",
   "metadata": {},
   "outputs": [
    {
     "name": "stdout",
     "output_type": "stream",
     "text": [
      "0\n",
      "2\n",
      "4\n"
     ]
    }
   ],
   "source": [
    "for i in range(0, 5, 2):\n",
    "    print(i)"
   ]
  },
  {
   "cell_type": "markdown",
   "id": "d3196df0",
   "metadata": {},
   "source": [
    "## 12. Write a short program that prints the numbers 1 to 10 using a for loop. Then write an equivalent program that prints the numbers 1 to 10 using a while loop."
   ]
  },
  {
   "cell_type": "code",
   "execution_count": 19,
   "id": "f9c56b8c",
   "metadata": {},
   "outputs": [
    {
     "name": "stdout",
     "output_type": "stream",
     "text": [
      "0\n",
      "1\n",
      "2\n",
      "3\n",
      "4\n"
     ]
    }
   ],
   "source": [
    "for i in range(0, 5):\n",
    "    print(i)"
   ]
  },
  {
   "cell_type": "code",
   "execution_count": 20,
   "id": "1d065658",
   "metadata": {},
   "outputs": [
    {
     "name": "stdout",
     "output_type": "stream",
     "text": [
      "0\n",
      "1\n",
      "2\n",
      "3\n",
      "4\n"
     ]
    }
   ],
   "source": [
    "i = 0\n",
    "while i <= 4:\n",
    "    print(i)\n",
    "    i += 1"
   ]
  },
  {
   "cell_type": "markdown",
   "id": "e7bee618",
   "metadata": {},
   "source": [
    "## 13. If you had a function named bacon() inside a module named spam, how would you call it after importing spam?"
   ]
  },
  {
   "cell_type": "raw",
   "id": "cf34f194",
   "metadata": {},
   "source": [
    "import spam\n",
    "\n",
    "spam.bacon()"
   ]
  },
  {
   "cell_type": "markdown",
   "id": "7eac78e8",
   "metadata": {},
   "source": [
    "## Thank You"
   ]
  },
  {
   "cell_type": "code",
   "execution_count": null,
   "id": "0c896b7e",
   "metadata": {},
   "outputs": [],
   "source": []
  }
 ],
 "metadata": {
  "kernelspec": {
   "display_name": "Python 3 (ipykernel)",
   "language": "python",
   "name": "python3"
  },
  "language_info": {
   "codemirror_mode": {
    "name": "ipython",
    "version": 3
   },
   "file_extension": ".py",
   "mimetype": "text/x-python",
   "name": "python",
   "nbconvert_exporter": "python",
   "pygments_lexer": "ipython3",
   "version": "3.10.9"
  }
 },
 "nbformat": 4,
 "nbformat_minor": 5
}
