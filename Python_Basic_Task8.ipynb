{
  "cells": [
    {
      "cell_type": "markdown",
      "id": "1bf75e1b",
      "metadata": {
        "id": "1bf75e1b"
      },
      "source": [
        "## 1. Is the Python Standard Library included with PyInputPlus?"
      ]
    },
    {
      "cell_type": "raw",
      "id": "9d5fba0a",
      "metadata": {
        "id": "9d5fba0a"
      },
      "source": [
        "No, PyInputPlus is a third-party library for Python that provides additional functionality for taking user input.\n",
        "It is not part of the Python Standard Library, which is a collection of modules and packages\n",
        "that are included with Python and are available for use without the need for installing external libraries.\n",
        "\n",
        "However, PyInputPlus does make use of some modules from the Python Standard Library, such as sys and re.\n",
        "These modules are included with Python, and PyInputPlus relies on them to provide some of its functionality.\n",
        "When you install PyInputPlus using a package manager like pip,\n",
        "these standard library modules are automatically included and installed as dependencies."
      ]
    },
    {
      "cell_type": "markdown",
      "id": "606d6983",
      "metadata": {
        "id": "606d6983"
      },
      "source": [
        "## 2. Why is PyInputPlus commonly imported with import pyinputplus as pypi?"
      ]
    },
    {
      "cell_type": "raw",
      "id": "27defb36",
      "metadata": {
        "id": "27defb36"
      },
      "source": [
        "PyInputPlus is commonly imported with the alias pypi to make it easier to reference the library in your code.\n",
        "The name pyinputplus is somewhat long and can be cumbersome to type repeatedly throughout your code.\n",
        "By importing the library with the shorter alias pypi, you can save keystrokes and make your code more concise and readable.\n",
        "\n",
        "Additionally, using an alias can help avoid naming conflicts with other modules or packages\n",
        "that you may be using in your code. If you import multiple modules that have functions or variables with the same name,\n",
        "using an alias can help you disambiguate between them and avoid naming collisions."
      ]
    },
    {
      "cell_type": "markdown",
      "id": "f2252a0b",
      "metadata": {
        "id": "f2252a0b"
      },
      "source": [
        "## 3. How do you distinguish between inputInt() and inputFloat()?"
      ]
    },
    {
      "cell_type": "code",
      "execution_count": 3,
      "id": "52aed7e5",
      "metadata": {
        "colab": {
          "base_uri": "https://localhost:8080/"
        },
        "id": "52aed7e5",
        "outputId": "9fd08dfb-562d-42f4-d556-43a8de843c29"
      },
      "outputs": [
        {
          "output_type": "stream",
          "name": "stdout",
          "text": [
            "Enter an integer: 9\n",
            "You entered: 9\n"
          ]
        }
      ],
      "source": [
        "import pyinputplus as pypi\n",
        "\n",
        "# Prompt user to enter an integer\n",
        "num = pypi.inputInt(\"Enter an integer: \")\n",
        "\n",
        "print(\"You entered:\", num)"
      ]
    },
    {
      "cell_type": "code",
      "execution_count": 4,
      "id": "87c92d52",
      "metadata": {
        "colab": {
          "base_uri": "https://localhost:8080/"
        },
        "id": "87c92d52",
        "outputId": "9f272537-528c-4fa9-a88c-dfe723dcd15c"
      },
      "outputs": [
        {
          "output_type": "stream",
          "name": "stdout",
          "text": [
            "Enter a float: 9.7\n",
            "You entered: 9.7\n"
          ]
        }
      ],
      "source": [
        "# Prompt user to enter a floating-point number\n",
        "num = pypi.inputFloat(\"Enter a float: \")\n",
        "\n",
        "print(\"You entered:\", num)"
      ]
    },
    {
      "cell_type": "markdown",
      "id": "5e05240c",
      "metadata": {
        "id": "5e05240c"
      },
      "source": [
        "## 4. Using PyInputPlus, how do you ensure that the user enters a whole number between 0 and 99?"
      ]
    },
    {
      "cell_type": "code",
      "execution_count": 5,
      "id": "e83e8e3d",
      "metadata": {
        "colab": {
          "base_uri": "https://localhost:8080/"
        },
        "id": "e83e8e3d",
        "outputId": "372bdcf1-3b04-4fc7-f1fe-ad8752505fa6"
      },
      "outputs": [
        {
          "output_type": "stream",
          "name": "stdout",
          "text": [
            "Enter a number between 0 and 99: 88\n",
            "You entered: 88\n"
          ]
        }
      ],
      "source": [
        "# Prompt user to enter a number between 0 and 99\n",
        "num = pypi.inputInt(\"Enter a number between 0 and 99: \", min=0, max=99)\n",
        "\n",
        "print(\"You entered:\", num)"
      ]
    },
    {
      "cell_type": "markdown",
      "id": "16d21bbc",
      "metadata": {
        "id": "16d21bbc"
      },
      "source": [
        "## 5. What is transferred to the keyword arguments allowRegexes and blockRegexes?"
      ]
    },
    {
      "cell_type": "raw",
      "id": "2a318d6f",
      "metadata": {
        "id": "2a318d6f"
      },
      "source": [
        "The allowRegexes and blockRegexes keyword arguments in PyInputPlus functions allow you to specify regular expressions\n",
        "that control which input values are allowed or blocked.\n",
        "\n",
        "The allowRegexes argument takes a list of regular expressions.\n",
        "PyInputPlus will allow input values that match at least one of the regular expressions in the list.\n",
        "For example, if you want to allow input values that consist of only digits or letters\n",
        "\n",
        "\n",
        "the regular expression \\s matches any whitespace character. The inputStr() function will block input values that contain any whitespace characters.\n",
        "\n",
        "You can also use the allowRegexes and blockRegexes arguments together to allow or block input values based on more complex patterns."
      ]
    },
    {
      "cell_type": "code",
      "execution_count": 6,
      "id": "39316400",
      "metadata": {
        "colab": {
          "base_uri": "https://localhost:8080/"
        },
        "id": "39316400",
        "outputId": "10e7d711-33d4-48d2-855c-c490889d72ca"
      },
      "outputs": [
        {
          "output_type": "stream",
          "name": "stdout",
          "text": [
            "Enter a string of digits or letters: asta\n",
            "You entered: asta\n"
          ]
        }
      ],
      "source": [
        "import re\n",
        "\n",
        "# Allow input values that consist of only digits or letters\n",
        "allowed = pypi.inputStr(\"Enter a string of digits or letters: \", allowRegexes=[re.compile(r'^[a-zA-Z0-9]+$')])\n",
        "\n",
        "print(\"You entered:\", allowed)"
      ]
    },
    {
      "cell_type": "code",
      "execution_count": 7,
      "id": "7f96dc59",
      "metadata": {
        "colab": {
          "base_uri": "https://localhost:8080/"
        },
        "id": "7f96dc59",
        "outputId": "4c0152ff-a3a9-4467-df1b-fee03bbd4786"
      },
      "outputs": [
        {
          "output_type": "stream",
          "name": "stdout",
          "text": [
            "Enter a string without whitespace: string\n",
            "You entered: string\n"
          ]
        }
      ],
      "source": [
        "# Block input values that contain any whitespace characters\n",
        "blocked = pypi.inputStr(\"Enter a string without whitespace: \", blockRegexes=[re.compile(r'\\s')])\n",
        "\n",
        "print(\"You entered:\", blocked)"
      ]
    },
    {
      "cell_type": "markdown",
      "id": "d62157b4",
      "metadata": {
        "id": "d62157b4"
      },
      "source": [
        "## 6. If a blank input is entered three times, what does inputStr(limit=3) do?"
      ]
    },
    {
      "cell_type": "raw",
      "id": "418a3802",
      "metadata": {
        "id": "418a3802"
      },
      "source": [
        "If a blank input is entered three times in a row while using the inputStr(limit=3) function in PyInputPlus,\n",
        "the function will raise a TimeoutException.\n",
        "\n",
        "The limit argument specifies the maximum number of attempts the function will make to get valid input from the user.\n",
        "If the user fails to provide valid input within the specified number of attempts, the function will raise a TimeoutException."
      ]
    },
    {
      "cell_type": "code",
      "execution_count": 8,
      "id": "88fe1453",
      "metadata": {
        "colab": {
          "base_uri": "https://localhost:8080/"
        },
        "id": "88fe1453",
        "outputId": "7dc9c532-00bd-48a5-9bf1-cdd547a38ec5"
      },
      "outputs": [
        {
          "output_type": "stream",
          "name": "stdout",
          "text": [
            "Enter a non-empty string: \n",
            "Blank values are not allowed.\n",
            "Enter a non-empty string: []\n",
            "You entered: []\n"
          ]
        }
      ],
      "source": [
        "try:\n",
        "    response = pypi.inputStr(\"Enter a non-empty string: \", limit=3)\n",
        "    print(\"You entered:\", response)\n",
        "except pypi.TimeoutException:\n",
        "    print(\"Input timed out. Please try again later.\")"
      ]
    },
    {
      "cell_type": "markdown",
      "id": "95b55aea",
      "metadata": {
        "id": "95b55aea"
      },
      "source": [
        "## 7. If blank input is entered three times, what does inputStr(limit=3, default='hello') do?"
      ]
    },
    {
      "cell_type": "code",
      "execution_count": 9,
      "id": "3980a423",
      "metadata": {
        "colab": {
          "base_uri": "https://localhost:8080/"
        },
        "id": "3980a423",
        "outputId": "40266b89-7c5b-40b6-de34-781adceccc22"
      },
      "outputs": [
        {
          "output_type": "stream",
          "name": "stdout",
          "text": [
            "Enter a non-empty string: pk\n",
            "You entered: pk\n"
          ]
        }
      ],
      "source": [
        "# Prompt user to enter a non-empty string, with a limit of 3 attempts and a default value of 'hello'\n",
        "response = pypi.inputStr(\"Enter a non-empty string: \", limit=3, default='hello')\n",
        "\n",
        "print(\"You entered:\", response)"
      ]
    },
    {
      "cell_type": "markdown",
      "id": "8c66b5fe",
      "metadata": {
        "id": "8c66b5fe"
      },
      "source": [
        "## Thank you"
      ]
    },
    {
      "cell_type": "code",
      "execution_count": null,
      "id": "7bfc68b8",
      "metadata": {
        "id": "7bfc68b8"
      },
      "outputs": [],
      "source": []
    }
  ],
  "metadata": {
    "kernelspec": {
      "display_name": "Python 3 (ipykernel)",
      "language": "python",
      "name": "python3"
    },
    "language_info": {
      "codemirror_mode": {
        "name": "ipython",
        "version": 3
      },
      "file_extension": ".py",
      "mimetype": "text/x-python",
      "name": "python",
      "nbconvert_exporter": "python",
      "pygments_lexer": "ipython3",
      "version": "3.8.0"
    },
    "colab": {
      "provenance": []
    }
  },
  "nbformat": 4,
  "nbformat_minor": 5
}