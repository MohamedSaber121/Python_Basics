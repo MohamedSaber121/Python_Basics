{
 "cells": [
  {
   "cell_type": "markdown",
   "id": "0ab874ce",
   "metadata": {},
   "source": [
    "# Mohammed Saber"
   ]
  },
  {
   "cell_type": "markdown",
   "id": "d30f6bc4",
   "metadata": {},
   "source": [
    "## 1. What is the name of the feature responsible for generating Regex objects?"
   ]
  },
  {
   "cell_type": "code",
   "execution_count": null,
   "id": "c5df15b6",
   "metadata": {},
   "outputs": [],
   "source": [
    "'''\n",
    "the feature responsible for generating regular expression (regex) objects is the re module. \n",
    "The re module provides functions and methods for working with regular expressions. \n",
    "It allows you to create regex objects that can be used to perform pattern matching and various operations on strings.\n",
    "'''"
   ]
  },
  {
   "cell_type": "markdown",
   "id": "743e6dd0",
   "metadata": {},
   "source": [
    "## 2. Why do raw strings often appear in Regex objects?"
   ]
  },
  {
   "cell_type": "code",
   "execution_count": null,
   "id": "485b6d4b",
   "metadata": {},
   "outputs": [],
   "source": [
    "'''\n",
    "Raw strings (r\"...\") are often used in regular expressions (regex) to avoid unwanted interpretation of escape sequences by \n",
    "the Python interpreter.\n",
    "'''"
   ]
  },
  {
   "cell_type": "markdown",
   "id": "8183e4e2",
   "metadata": {},
   "source": [
    "## 3. What is the return value of the search() method?"
   ]
  },
  {
   "cell_type": "code",
   "execution_count": null,
   "id": "6eb1da02",
   "metadata": {},
   "outputs": [],
   "source": [
    "'''\n",
    "The search() method in Python's re module is used to search for a pattern within a string. It returns a match object if \n",
    "the pattern is found, and None if the pattern is not found.\n",
    "'''"
   ]
  },
  {
   "cell_type": "markdown",
   "id": "5037a3c8",
   "metadata": {},
   "source": [
    "## 4. From a Match item, how do you get the actual strings that match the pattern?"
   ]
  },
  {
   "cell_type": "code",
   "execution_count": 1,
   "id": "afd4c833",
   "metadata": {},
   "outputs": [
    {
     "name": "stdout",
     "output_type": "stream",
     "text": [
      "Pattern found!\n",
      "Matched text: apple\n",
      "Starting index: 10\n",
      "Ending index: 15\n"
     ]
    }
   ],
   "source": [
    "import re\n",
    "\n",
    "# Define a pattern\n",
    "pattern = r\"apple\"\n",
    "\n",
    "# Search for the pattern in a string\n",
    "text = \"I have an apple and a banana.\"\n",
    "match = re.search(pattern, text)\n",
    "\n",
    "if match:\n",
    "    print(\"Pattern found!\")\n",
    "    print(\"Matched text:\", match.group())\n",
    "    print(\"Starting index:\", match.start())\n",
    "    print(\"Ending index:\", match.end())\n",
    "else:\n",
    "    print(\"Pattern not found.\")"
   ]
  },
  {
   "cell_type": "markdown",
   "id": "e2962e0d",
   "metadata": {},
   "source": [
    "## 5. In the regex which created from the r'(\\d\\d\\d)-(\\d\\d\\d-\\d\\d\\d\\d)', what does group zero cover? Group 2? Group 1?"
   ]
  },
  {
   "cell_type": "code",
   "execution_count": 2,
   "id": "8e942cc2",
   "metadata": {},
   "outputs": [
    {
     "name": "stdout",
     "output_type": "stream",
     "text": [
      "Group 0 (Entire match): 555-123-4567\n",
      "Group 1 (Area code): 555\n",
      "Group 2 (Phone number): 123-4567\n"
     ]
    }
   ],
   "source": [
    "import re\n",
    "\n",
    "# Define a pattern\n",
    "pattern = r'(\\d\\d\\d)-(\\d\\d\\d-\\d\\d\\d\\d)'\n",
    "\n",
    "# Search for the pattern in a string\n",
    "text = \"My phone number is 555-123-4567\"\n",
    "match = re.search(pattern, text)\n",
    "\n",
    "if match:\n",
    "    print(\"Group 0 (Entire match):\", match.group(0))\n",
    "    print(\"Group 1 (Area code):\", match.group(1))\n",
    "    print(\"Group 2 (Phone number):\", match.group(2))\n",
    "else:\n",
    "    print(\"Pattern not found.\")"
   ]
  },
  {
   "cell_type": "markdown",
   "id": "a4700f92",
   "metadata": {},
   "source": [
    "## 6. In standard expression syntax, parentheses and intervals have distinct meanings. How can you tell a regex that you want it to fit real parentheses and periods?"
   ]
  },
  {
   "cell_type": "code",
   "execution_count": null,
   "id": "8a5b3880",
   "metadata": {},
   "outputs": [],
   "source": [
    "'''\n",
    "To match literal parentheses and periods in regular expressions (regex), you need to escape them using a backslash (\\) \n",
    "since parentheses and periods have special meanings in regex syntax. Here's how you can indicate that you want to match \n",
    "real parentheses and periods:\n",
    "\n",
    "For parentheses: Use \\( to match a left parenthesis and \\) to match a right parenthesis. For example, the regex \n",
    "pattern \\(\\w+\\) will match a word enclosed in parentheses.\n",
    "\n",
    "For periods: Use \\. to match a literal period. For example, the regex pattern \\d+\\.\\d+ will match a decimal number.\n",
    "'''"
   ]
  },
  {
   "cell_type": "markdown",
   "id": "0a572df7",
   "metadata": {},
   "source": [
    "## 7. The findall() method returns a string list or a list of string tuples. What causes it to return one of the two options?"
   ]
  },
  {
   "cell_type": "code",
   "execution_count": null,
   "id": "d5a594e7",
   "metadata": {},
   "outputs": [],
   "source": [
    "'''\n",
    "The findall() method from the re module in Python returns either a list of strings or a list of string tuples depending on \n",
    "the regular expression pattern used.\n",
    "\n",
    "The return value of findall() is determined by the presence of capturing groups in the regular expression pattern. \n",
    "A capturing group is defined by enclosing a part of the pattern within parentheses ( and ).\n",
    "\n",
    "If the pattern has no capturing groups, findall() returns a list of strings. Each element in the list corresponds to a \n",
    "complete match of the pattern in the input string.\n",
    "'''"
   ]
  },
  {
   "cell_type": "code",
   "execution_count": 3,
   "id": "734d698f",
   "metadata": {},
   "outputs": [
    {
     "name": "stdout",
     "output_type": "stream",
     "text": [
      "['123']\n"
     ]
    }
   ],
   "source": [
    "import re\n",
    "\n",
    "text = \"Hello, 123 World!\"\n",
    "pattern = r\"\\d+\"\n",
    "\n",
    "matches = re.findall(pattern, text)\n",
    "print(matches)  # Output: ['123']"
   ]
  },
  {
   "cell_type": "markdown",
   "id": "b6a0c0ef",
   "metadata": {},
   "source": [
    "## 8. In standard expressions, what does the | character mean?"
   ]
  },
  {
   "cell_type": "code",
   "execution_count": null,
   "id": "605a0add",
   "metadata": {},
   "outputs": [],
   "source": [
    "'''\n",
    "In regular expressions (regex), the | character, called the pipe or vertical bar, is used as an \"OR\" operator. \n",
    "It allows you to specify multiple alternatives within a regex pattern, matching any of the alternatives.\n",
    "\n",
    "Here's how the | character works in regex:\n",
    "\n",
    "Alternation: The | character separates different alternatives in a regex pattern. It matches either the expression on its \n",
    "left or the expression on its right. For example, the pattern cat|dog matches either \"cat\" or \"dog\". If either \"cat\" or \n",
    "\"dog\" appears in the input string, it will be considered a match.\n",
    "\n",
    "Grouping: The | character can be used within parentheses ( and ) to specify alternatives for a group. For example, \n",
    "(ab|cd) matches either \"ab\" or \"cd\". It creates a capturing group that captures either \"ab\" or \"cd\" as a whole.\n",
    "'''"
   ]
  },
  {
   "cell_type": "markdown",
   "id": "2508ffbe",
   "metadata": {},
   "source": [
    "## 9.In regular expressions, what is the difference between the + and * characters?"
   ]
  },
  {
   "cell_type": "code",
   "execution_count": null,
   "id": "afa9c1b4",
   "metadata": {},
   "outputs": [],
   "source": [
    "'''\n",
    "In regular expressions, the + and * characters are quantifiers that specify how many times a preceding element should \n",
    "occur in the input string. Here's the difference between the two:\n",
    "\n",
    "+ (Plus symbol):\n",
    "\n",
    "Quantifier: Matches one or more occurrences of the preceding element.\n",
    "Meaning: The preceding element must occur at least once, but it can repeat any number of times.\n",
    "Example: The pattern a+ matches one or more occurrences of the letter 'a'. It would match \"a\", \"aa\", \"aaa\", and so on, \n",
    "but it would not match an empty string.\n",
    "* (Asterisk):\n",
    "\n",
    "Quantifier: Matches zero or more occurrences of the preceding element.\n",
    "Meaning: The preceding element can occur zero or more times.\n",
    "Example: The pattern a* matches zero or more occurrences of the letter 'a'. It would match an empty string, \"a\", \"aa\", \n",
    "\"aaa\", and so on.\n",
    "'''"
   ]
  },
  {
   "cell_type": "markdown",
   "id": "91d77174",
   "metadata": {},
   "source": [
    "## 10. What is the difference between {4} and {4,5} in regular expression?"
   ]
  },
  {
   "cell_type": "code",
   "execution_count": null,
   "id": "20a94c7b",
   "metadata": {},
   "outputs": [],
   "source": [
    "'''\n",
    "the symbols you mentioned, {4} and {4,5}, are used to specify the repetition of a pattern. \n",
    "Let's break down their meanings:\n",
    "\n",
    "{4}: This notation specifies that the preceding element or group should occur exactly four times. For example, \n",
    "if you have a pattern \"a{4}\", it means that the letter \"a\" should appear exactly four times consecutively. So, \n",
    "it would match \"aaaa\" but not \"aaa\" or \"aaaaa\".\n",
    "\n",
    "{4,5}: This notation specifies a range for the repetition. In this case, it means that the preceding element or group \n",
    "should occur between four and five times, inclusive. For example, if you have a pattern \"a{4,5}\", it means that the \n",
    "letter \"a\" should appear between four and five times consecutively. So, it would match \"aaaa\" and \"aaaaa\", but not \n",
    "\"aaa\" or \"aaaaaa\".\n",
    "\n",
    "To summarize, {4} specifies an exact number of occurrences, while {4,5} specifies a range of occurrences.\n",
    "'''"
   ]
  },
  {
   "cell_type": "markdown",
   "id": "fe335831",
   "metadata": {},
   "source": [
    "## 11. What do you mean by the \\d, \\w, and \\s shorthand character classes signify in regular expressions?"
   ]
  },
  {
   "cell_type": "code",
   "execution_count": null,
   "id": "303227ef",
   "metadata": {},
   "outputs": [],
   "source": [
    "'''\n",
    "In regular expressions, shorthand character classes are predefined character classes that represent common character groups.\n",
    "Here's what each of the shorthand character classes you mentioned signifies:\n",
    "\n",
    "\\d: This shorthand character class represents any digit character. It is equivalent to the character range [0-9]. So, \n",
    "if you use \\d in a regular expression pattern, it will match any single digit from 0 to 9.\n",
    "\n",
    "\\w: This shorthand character class represents any word character. It includes alphanumeric characters (letters and digits) \n",
    "as well as the underscore character (_). It is equivalent to the character range [a-zA-Z0-9_]. So, if you use \\w in \n",
    "a regular expression pattern, it will match any single alphanumeric character or underscore.\n",
    "\n",
    "\\s: This shorthand character class represents any whitespace character. It matches any whitespace character, including \n",
    "spaces, tabs, and line breaks. It is equivalent to the character range [\\t\\n\\f\\r\\p{Z}]. So, if you use \\s in a regular \n",
    "expression pattern, it will match any single whitespace character.\n",
    "'''"
   ]
  },
  {
   "cell_type": "markdown",
   "id": "93dd5fdf",
   "metadata": {},
   "source": [
    "## 12. What do means by \\D, \\W, and \\S shorthand character classes signify in regular expressions?"
   ]
  },
  {
   "cell_type": "code",
   "execution_count": null,
   "id": "3023bb4a",
   "metadata": {},
   "outputs": [],
   "source": [
    "'''\n",
    " the shorthand character classes \\D, \\W, and \\S are negated versions of the character classes \\d, \\w, and \\s. \n",
    " Here's what each of them signifies:\n",
    "\n",
    "\\D: This shorthand character class represents any character that is not a digit. It is the negation of \\d. So, \n",
    "if you use \\D in a regular expression pattern, it will match any single character that is not a digit from 0 to 9.\n",
    "\n",
    "\\W: This shorthand character class represents any character that is not a word character. It is the negation of \\w. \n",
    "It matches any character that is not alphanumeric (letter or digit) or underscore. So, if you use \\W in a regular expression pattern, it will match any single character that is not a word character.\n",
    "\n",
    "\\S: This shorthand character class represents any character that is not a whitespace character. It is the negation of \\s. \n",
    "It matches any character that is not a space, tab, or line break. So, if you use \\S in a regular expression pattern, \n",
    "it will match any single character that is not a whitespace character.\n",
    "'''"
   ]
  },
  {
   "cell_type": "markdown",
   "id": "f4c6c856",
   "metadata": {},
   "source": [
    "## 13. What is the difference between .*? and .*?"
   ]
  },
  {
   "cell_type": "code",
   "execution_count": null,
   "id": "e220ccb8",
   "metadata": {},
   "outputs": [],
   "source": [
    "'''\n",
    "The difference between .*? and .* lies in their behavior when it comes to matching patterns in regular expressions. \n",
    "Let's break down their meanings:\n",
    "\n",
    ".*?: This expression is a non-greedy or lazy quantifier. It matches any character (except newline) zero or more times, \n",
    "but as few times as possible. In other words, it performs the match in a non-greedy manner, trying to find the shortest \n",
    "possible match. It will stop matching as soon as the next part of the pattern can be satisfied. For example, if you have \n",
    "the pattern a.*?b and the input string is \"abacb\", the match will be \"ab\" rather than \"abacb\".\n",
    "\n",
    ".*: This expression is a greedy quantifier. It also matches any character (except newline) zero or more times, but in a \n",
    "greedy manner. It tries to find the longest possible match before backtracking. It will match as much as it can and only \n",
    "stop when the next part of the pattern cannot be satisfied. For example, if you have the pattern a.*b and the input \n",
    "string is \"abacb\", the match will be \"abacb\" because it matches the longest substring that starts with \"a\" and ends with \n",
    "\"b\".\n",
    "'''"
   ]
  },
  {
   "cell_type": "markdown",
   "id": "a3bafe3c",
   "metadata": {},
   "source": [
    "## 14. What is the syntax for matching both numbers and lowercase letters with a character class?"
   ]
  },
  {
   "cell_type": "code",
   "execution_count": 4,
   "id": "6d12e03e",
   "metadata": {},
   "outputs": [
    {
     "name": "stdout",
     "output_type": "stream",
     "text": [
      "['e', 'l', 'l', 'o', '1', '2', '3', 'w', 'o', 'r', 'l', 'd']\n"
     ]
    }
   ],
   "source": [
    "#[0-9a-z]\n",
    "import re\n",
    "\n",
    "pattern = r\"[0-9a-z]\"\n",
    "text = \"Hello, 123 world!\"\n",
    "\n",
    "matches = re.findall(pattern, text)\n",
    "print(matches)"
   ]
  },
  {
   "cell_type": "markdown",
   "id": "f74c8764",
   "metadata": {},
   "source": [
    "## 15. What is the procedure for making a normal expression in regax case insensitive?"
   ]
  },
  {
   "cell_type": "code",
   "execution_count": null,
   "id": "2189ed34",
   "metadata": {},
   "outputs": [],
   "source": [
    "'''\n",
    " the /i flag indicates that the pattern should be matched in a case-insensitive manner.\n",
    "\n",
    "Using a modifier or flag within the regex pattern: Some programming languages allow you to include a case-insensitive \n",
    "modifier within the regex pattern itself\n",
    "'''"
   ]
  },
  {
   "cell_type": "code",
   "execution_count": 5,
   "id": "ec205394",
   "metadata": {},
   "outputs": [],
   "source": [
    "import re\n",
    "\n",
    "pattern = r\"(?i)pattern\""
   ]
  },
  {
   "cell_type": "markdown",
   "id": "f6b54003",
   "metadata": {},
   "source": [
    "## 16. What does the . character normally match? What does it match if re.DOTALL is passed as 2nd argument in re.compile()?"
   ]
  },
  {
   "cell_type": "code",
   "execution_count": null,
   "id": "f7f9cde9",
   "metadata": {},
   "outputs": [],
   "source": [
    "'''\n",
    "In regular expressions, the . (dot) character is a special metacharacter that matches any character except a newline \n",
    "character (\\n). By default, the dot matches any character except newline.\n",
    "\n",
    "However, if you pass re.DOTALL as the second argument to the re.compile() function in Python, it changes the behavior of \n",
    "the dot. When re.DOTALL is used, the dot matches any character, including newline.\n",
    "'''"
   ]
  },
  {
   "cell_type": "code",
   "execution_count": 6,
   "id": "1f70394a",
   "metadata": {},
   "outputs": [
    {
     "name": "stdout",
     "output_type": "stream",
     "text": [
      "[]\n",
      "['ab\\n']\n"
     ]
    }
   ],
   "source": [
    "import re\n",
    "\n",
    "pattern = r\"ab.\"\n",
    "text = \"ab\\ndef\"\n",
    "\n",
    "# Without re.DOTALL\n",
    "matches = re.findall(pattern, text)\n",
    "print(matches)  # Output: ['ab']\n",
    "\n",
    "# With re.DOTALL\n",
    "compiled_pattern = re.compile(pattern, re.DOTALL)\n",
    "matches = compiled_pattern.findall(text)\n",
    "print(matches)  # Output: ['ab\\n']"
   ]
  },
  {
   "cell_type": "markdown",
   "id": "7dbc4116",
   "metadata": {},
   "source": [
    "## 17. If numReg = re.compile(r'\\d+'), what will numRegex.sub('X', '11 drummers, 10 pipers, five rings, 4 hen') return?"
   ]
  },
  {
   "cell_type": "code",
   "execution_count": null,
   "id": "b928668e",
   "metadata": {},
   "outputs": [],
   "source": [
    "'''\n",
    "If numRegex is defined as re.compile(r'\\d+'), and the sub() method is called with the replacement string 'X' and the input \n",
    "string '11 drummers, 10 pipers, five rings, 4 hen', the return value will be:\n",
    "\n",
    "'X drummers, X pipers, five rings, X hen'\n",
    "\n",
    "The sub() method in Python's re module is used for performing substitutions in a string based on a regular expression \n",
    "pattern. In this case, the regular expression pattern \\d+ matches one or more digits.\n",
    "\n",
    "By calling numRegex.sub('X', '11 drummers, 10 pipers, five rings, 4 hen'), all occurrences of the digit sequences in the \n",
    "input string will be replaced with the string 'X'. Thus, the resulting string will have the digits '11', '10', and '4' \n",
    "replaced with 'X'. The other parts of the input string that do not match the pattern will remain unchanged.\n",
    "'''"
   ]
  },
  {
   "cell_type": "markdown",
   "id": "313315ca",
   "metadata": {},
   "source": [
    "## 18. What does passing re.VERBOSE as the 2nd argument to re.compile() allow to do?"
   ]
  },
  {
   "cell_type": "code",
   "execution_count": null,
   "id": "b5ff20cf",
   "metadata": {},
   "outputs": [],
   "source": [
    "'''\n",
    "Passing re.VERBOSE as the second argument to re.compile() in Python allows you to create regular expressions with improved \n",
    "readability and structure by ignoring whitespace and adding comments.\n",
    "\n",
    "When re.VERBOSE is used, it enables the \"verbose\" or \"extended\" mode for the regular expression pattern. In this mode, \n",
    "you can include additional whitespace and comments within the pattern, which are ignored by the regex engine during \n",
    "pattern matching. This feature helps in writing more readable and maintainable regular expressions, especially for \n",
    "complex patterns.\n",
    "'''"
   ]
  },
  {
   "cell_type": "code",
   "execution_count": 7,
   "id": "4732df71",
   "metadata": {},
   "outputs": [
    {
     "name": "stdout",
     "output_type": "stream",
     "text": [
      "Invalid format.\n"
     ]
    }
   ],
   "source": [
    "import re\n",
    "\n",
    "pattern = r\"\"\"\n",
    "    ^               # Start of the line\n",
    "    \\w+             # Match one or more word characters\n",
    "    \\s              # Match a whitespace character\n",
    "    \\d{2}-\\d{2}-\\d{4}   # Match a date in the format DD-MM-YYYY\n",
    "    $               # End of the line\n",
    "\"\"\"\n",
    "\n",
    "text = \"John Doe 12-34-5678\"\n",
    "\n",
    "compiled_pattern = re.compile(pattern, re.VERBOSE)\n",
    "match = compiled_pattern.match(text)\n",
    "\n",
    "if match:\n",
    "    print(\"Valid format: \", match.group())\n",
    "else:\n",
    "    print(\"Invalid format.\")"
   ]
  },
  {
   "cell_type": "markdown",
   "id": "eac35b99",
   "metadata": {},
   "source": [
    "## 19. How would you write a regex that match a number with comma for every three digits? It must match the given following:"
   ]
  },
  {
   "cell_type": "code",
   "execution_count": null,
   "id": "f0689bce",
   "metadata": {},
   "outputs": [],
   "source": [
    "'''\n",
    "To match a number with commas for every three digits, you can use the following regular expression:\n",
    "^\\d{1,3}(,\\d{3})*$\n",
    "Let's break down the pattern:\n",
    "\n",
    "^ asserts the start of the string.\n",
    "\\d{1,3} matches one to three digits.\n",
    "(,\\d{3})* captures a comma followed by exactly three digits and allows for zero or more occurrences of this group.\n",
    "$ asserts the end of the string.\n",
    "'''"
   ]
  },
  {
   "cell_type": "code",
   "execution_count": 8,
   "id": "46e8db77",
   "metadata": {},
   "outputs": [
    {
     "name": "stdout",
     "output_type": "stream",
     "text": [
      "Matched: 42\n",
      "Matched: 1,234\n",
      "Matched: 6,368,745\n",
      "Not matched: 12,34,567\n",
      "Not matched: 1234\n"
     ]
    }
   ],
   "source": [
    "import re\n",
    "\n",
    "pattern = r'^\\d{1,3}(,\\d{3})*$'\n",
    "\n",
    "numbers = ['42', '1,234', '6,368,745', '12,34,567', '1234']\n",
    "\n",
    "for number in numbers:\n",
    "    if re.match(pattern, number):\n",
    "        print(f\"Matched: {number}\")\n",
    "    else:\n",
    "        print(f\"Not matched: {number}\")"
   ]
  },
  {
   "cell_type": "markdown",
   "id": "a0b5ab15",
   "metadata": {},
   "source": [
    "## 20. How would you write a regex that matches the full name of someone whose last name is Watanabe? You can assume that the first name that comes before it will always be one word that begins with a capital letter. The regex must match the following:"
   ]
  },
  {
   "cell_type": "code",
   "execution_count": null,
   "id": "e018457e",
   "metadata": {},
   "outputs": [],
   "source": [
    "'''\n",
    "^ asserts the start of the string.\n",
    "[A-Z] matches a single uppercase letter, which represents the first letter of the first name.\n",
    "[a-zA-Z]* matches zero or more lowercase or uppercase letters, representing the rest of the first name.\n",
    "\\s matches a whitespace character, which separates the first name and last name.\n",
    "Watanabe matches the literal string \"Watanabe\".\n",
    "$ asserts the end of the string.\n",
    "This regex pattern ensures that the first name starts with a capital letter, followed by zero or more letters, then a \n",
    "whitespace character, and finally the last name \"Watanabe\". It will match names like \"Haruto Watanabe,\" \"Alice Watanabe,\" \n",
    "and \"RoboCop Watanabe\" while rejecting names like \"haruto Watanabe,\" \"Mr. Watanabe,\" \"Watanabe,\" and \"Haruto watanabe.\"\n",
    "'''"
   ]
  },
  {
   "cell_type": "code",
   "execution_count": 9,
   "id": "b6f0aa9e",
   "metadata": {},
   "outputs": [
    {
     "name": "stdout",
     "output_type": "stream",
     "text": [
      "Match found!\n"
     ]
    }
   ],
   "source": [
    "import re\n",
    "\n",
    "name = \"Haruto Watanabe\"\n",
    "pattern = r\"^[A-Z][a-zA-Z]*\\sWatanabe$\"\n",
    "match = re.match(pattern, name)\n",
    "\n",
    "if match:\n",
    "    print(\"Match found!\")\n",
    "else:\n",
    "    print(\"No match found.\")"
   ]
  },
  {
   "cell_type": "markdown",
   "id": "eee9caca",
   "metadata": {},
   "source": [
    "## 21. How would you write a regex that matches a sentence where the first word is either Alice, Bob, or Carol; the second word is either eats, pets, or throws; the third word is apples, cats, or baseballs; and the sentence ends with a period? "
   ]
  },
  {
   "cell_type": "code",
   "execution_count": 10,
   "id": "dafbfe44",
   "metadata": {},
   "outputs": [
    {
     "name": "stdout",
     "output_type": "stream",
     "text": [
      "Match found!\n"
     ]
    }
   ],
   "source": [
    "import re\n",
    "\n",
    "sentence = \"Alice eats apples.\"\n",
    "pattern = r\"^(Alice|Bob|Carol)\\s(eats|pets|throws)\\s(apples|cats|baseballs)\\.$\"\n",
    "match = re.match(pattern, sentence, re.IGNORECASE)\n",
    "\n",
    "if match:\n",
    "    print(\"Match found!\")\n",
    "else:\n",
    "    print(\"No match found.\")"
   ]
  },
  {
   "cell_type": "code",
   "execution_count": null,
   "id": "8547b4e2",
   "metadata": {},
   "outputs": [],
   "source": []
  }
 ],
 "metadata": {
  "kernelspec": {
   "display_name": "Python 3 (ipykernel)",
   "language": "python",
   "name": "python3"
  },
  "language_info": {
   "codemirror_mode": {
    "name": "ipython",
    "version": 3
   },
   "file_extension": ".py",
   "mimetype": "text/x-python",
   "name": "python",
   "nbconvert_exporter": "python",
   "pygments_lexer": "ipython3",
   "version": "3.8.0"
  }
 },
 "nbformat": 4,
 "nbformat_minor": 5
}
