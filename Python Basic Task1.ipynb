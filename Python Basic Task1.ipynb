{
 "cells": [
  {
   "cell_type": "markdown",
   "id": "3925c8d6",
   "metadata": {},
   "source": [
    "# Mohammed Saber "
   ]
  },
  {
   "cell_type": "markdown",
   "id": "847879d1",
   "metadata": {},
   "source": [
    "## 1. In the below elements which of them are values or an expression? eg:- values can be integer or string and expressions will be mathematical operators."
   ]
  },
  {
   "cell_type": "raw",
   "id": "64c470bd",
   "metadata": {},
   "source": [
    "* expression -> is mathematical operators(Multiplication)\n",
    "\"hello\"      -> is value(string)\n",
    "\"-87.8\"      -> is value(float)\n",
    "\"-\"          -> expression is mathematical operators(subtraction)\n",
    "\"/\"          -> expression is mathematical operators(division)\n",
    "\"+\"          -> expression is mathematical operators(addition)\n",
    "\"6\"          -> is value(integer)"
   ]
  },
  {
   "cell_type": "markdown",
   "id": "d4e60c4e",
   "metadata": {},
   "source": [
    "## 2. What is the difference between string and variable?"
   ]
  },
  {
   "cell_type": "raw",
   "id": "861bcdbd",
   "metadata": {},
   "source": [
    "A string is a data type used in programming, that is used to represent text rather than numbers\n",
    "a variable is a value that can change, depending on conditions or on information passed to the program."
   ]
  },
  {
   "cell_type": "markdown",
   "id": "a14fcf40",
   "metadata": {},
   "source": [
    "## 3. Describe three different data types."
   ]
  },
  {
   "cell_type": "raw",
   "id": "55dd1428",
   "metadata": {},
   "source": [
    "A list is a number of items in an ordered or unordered structure\n",
    "A dictionary is defined as a general-purpose data structure for storing a group of objects. A dictionary is associated with a set of keys and each key has a single associated value.\n",
    "A tuple is a data structure that is an immutable, or unchangeable, ordered sequence of elements\n",
    "Integer is a data type used to represent real numbers that do not have fractional values\n",
    "A string is a data type used in programming, that is used to represent text rather than numbers"
   ]
  },
  {
   "cell_type": "markdown",
   "id": "6c8c7635",
   "metadata": {},
   "source": [
    "## 4. What is an expression made up of? What do all expressions do?"
   ]
  },
  {
   "cell_type": "raw",
   "id": "603287e6",
   "metadata": {},
   "source": [
    "In computer programming, an expression is a combination of values, variables, operators, and function calls that \n",
    "can be evaluated to produce a result. An expression can be as simple as a single constant value or variable, \n",
    "or it can be a complex combination of values and operators.\n",
    "Expressions can be used to perform calculations, compare values, and make decisions in a program.\n",
    "They are a fundamental part of most programming languages and are used extensively in writing code."
   ]
  },
  {
   "cell_type": "markdown",
   "id": "62c71b0e",
   "metadata": {},
   "source": [
    "## 5. This assignment statements, like spam = 10. What is the difference between an expression and a statement?"
   ]
  },
  {
   "cell_type": "raw",
   "id": "46f70c0a",
   "metadata": {},
   "source": [
    "a statement is a complete unit of code that performs some action.\n",
    "While an expression produces a value, a statement does not necessarily do so.\n",
    "An assignment statement, like spam = 10,\n",
    "is an example of a statement that assigns a value (in this case, 10) to a variable (in this case, spam)."
   ]
  },
  {
   "cell_type": "markdown",
   "id": "9d791d3e",
   "metadata": {},
   "source": [
    "## 6. After running the following code, what does the variable bacon contain?"
   ]
  },
  {
   "cell_type": "code",
   "execution_count": 1,
   "id": "97c83cf9",
   "metadata": {},
   "outputs": [
    {
     "data": {
      "text/plain": [
       "23"
      ]
     },
     "execution_count": 1,
     "metadata": {},
     "output_type": "execute_result"
    }
   ],
   "source": [
    "bacon = 22\n",
    "bacon + 1"
   ]
  },
  {
   "cell_type": "markdown",
   "id": "ffaf8291",
   "metadata": {},
   "source": [
    "## 7. What should the values of the following two terms be?"
   ]
  },
  {
   "cell_type": "code",
   "execution_count": 2,
   "id": "94bc4971",
   "metadata": {},
   "outputs": [
    {
     "data": {
      "text/plain": [
       "'spamspamspam'"
      ]
     },
     "execution_count": 2,
     "metadata": {},
     "output_type": "execute_result"
    }
   ],
   "source": [
    "'spam' + 'spamspam' "
   ]
  },
  {
   "cell_type": "code",
   "execution_count": 3,
   "id": "7a76584e",
   "metadata": {},
   "outputs": [
    {
     "data": {
      "text/plain": [
       "'spamspamspam'"
      ]
     },
     "execution_count": 3,
     "metadata": {},
     "output_type": "execute_result"
    }
   ],
   "source": [
    "'spam' * 3 "
   ]
  },
  {
   "cell_type": "markdown",
   "id": "13cd475e",
   "metadata": {},
   "source": [
    "## 8. Why is eggs a valid variable name while 100 is invalid?"
   ]
  },
  {
   "cell_type": "raw",
   "id": "2448c5bb",
   "metadata": {},
   "source": [
    "Based on these rules, the variable name eggs is valid because it consists of only letters and is not a Python keyword.\n",
    "On the other hand, the value 100 is not a valid variable name because it begins with a digit.\n",
    "Variable names cannot begin with a digit in Python."
   ]
  },
  {
   "cell_type": "markdown",
   "id": "1bf1995c",
   "metadata": {},
   "source": [
    "## 9. What three functions can be used to get the integer, floating-point number, or string version of a value?"
   ]
  },
  {
   "cell_type": "raw",
   "id": "a5d9df7e",
   "metadata": {},
   "source": [
    "int(): This function can be used to get the integer version of a value. \n",
    "float(): This function can be used to get the floating-point number version of a value. \n",
    "str(): This function can be used to get the string version of a value."
   ]
  },
  {
   "cell_type": "markdown",
   "id": "d4c15c2c",
   "metadata": {},
   "source": [
    "## 10. Why does this expression cause an error? How can you fix it?"
   ]
  },
  {
   "cell_type": "raw",
   "id": "dccbca32",
   "metadata": {},
   "source": [
    "'I have eaten ' + 99 + ' burritos.'\n",
    "The expression 'I have eaten ' + 99 + ' burritos.' causes a TypeError in Python.\n",
    "The reason for this error is that we are trying to concatenate a string ('I have eaten ') with an integer (99), which is not allowed in Python. The + operator can only be used to concatenate strings with other strings, or to add numbers together.\n",
    "To fix this error, we need to convert the integer 99 to a string before concatenating it with the other strings. We can do this using the str() function, like this:\n",
    "'I have eaten ' + str(99) + ' burritos.'\n",
    "This will convert the integer 99 to a string ('99') and then concatenate it with the other strings to produce the final result:\n",
    "'I have eaten 99 burritos.'"
   ]
  },
  {
   "cell_type": "code",
   "execution_count": 4,
   "id": "584ba263",
   "metadata": {},
   "outputs": [
    {
     "data": {
      "text/plain": [
       "'I have eaten 99 burritos.'"
      ]
     },
     "execution_count": 4,
     "metadata": {},
     "output_type": "execute_result"
    }
   ],
   "source": [
    "'I have eaten ' + str(99) + ' burritos.'"
   ]
  },
  {
   "cell_type": "markdown",
   "id": "1f611ce7",
   "metadata": {},
   "source": [
    "### Thank you"
   ]
  },
  {
   "cell_type": "code",
   "execution_count": null,
   "id": "92833f74",
   "metadata": {},
   "outputs": [],
   "source": []
  }
 ],
 "metadata": {
  "kernelspec": {
   "display_name": "Python 3 (ipykernel)",
   "language": "python",
   "name": "python3"
  },
  "language_info": {
   "codemirror_mode": {
    "name": "ipython",
    "version": 3
   },
   "file_extension": ".py",
   "mimetype": "text/x-python",
   "name": "python",
   "nbconvert_exporter": "python",
   "pygments_lexer": "ipython3",
   "version": "3.8.0"
  }
 },
 "nbformat": 4,
 "nbformat_minor": 5
}
