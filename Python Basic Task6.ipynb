{
 "cells": [
  {
   "cell_type": "markdown",
   "id": "191fe03d",
   "metadata": {},
   "source": [
    "# Mohammed Saber "
   ]
  },
  {
   "cell_type": "markdown",
   "id": "97527977",
   "metadata": {},
   "source": [
    "## 1. What are escape characters, and how do you use them?"
   ]
  },
  {
   "cell_type": "code",
   "execution_count": null,
   "id": "cfb85708",
   "metadata": {},
   "outputs": [],
   "source": [
    "'''\n",
    "Escape characters are special characters that are used in strings to represent characters that \n",
    "cannot be typed or displayed directly. They are denoted by a backslash \\ followed by a specific character or code. When the backslash is followed by a character, it creates an escape sequence that represents a special character. Here are some common escape characters and their meanings:\n",
    "\n",
    "\\n: newline character\n",
    "\\t: tab character\n",
    "\\\\: backslash character\n",
    "\\\": double quote character\n",
    "\\': single quote character\n",
    "\\r: carriage return character\n",
    "\\b: backspace character\n",
    "\\f: form feed character\n",
    "'''"
   ]
  },
  {
   "cell_type": "code",
   "execution_count": 1,
   "id": "713db2be",
   "metadata": {},
   "outputs": [
    {
     "name": "stdout",
     "output_type": "stream",
     "text": [
      "This is a string with a newline character\n",
      "in the middle\n",
      "This is a string with a tab character\tin the middle\n",
      "This is a string with a backslash character\\in the middle\n",
      "This is a string with a double quote character\"in the middle\n",
      "This is a string with a single quote character'in the middle\n"
     ]
    }
   ],
   "source": [
    "print(\"This is a string with a newline character\\nin the middle\")\n",
    "print(\"This is a string with a tab character\\tin the middle\")\n",
    "print(\"This is a string with a backslash character\\\\in the middle\")\n",
    "print(\"This is a string with a double quote character\\\"in the middle\")\n",
    "print('This is a string with a single quote character\\'in the middle')"
   ]
  },
  {
   "cell_type": "markdown",
   "id": "930845c6",
   "metadata": {},
   "source": [
    "## 2. What do the escape characters n and t stand for?"
   ]
  },
  {
   "cell_type": "code",
   "execution_count": null,
   "id": "01261417",
   "metadata": {},
   "outputs": [],
   "source": [
    "'''\n",
    "The escape character \\n stands for a newline character, and the escape character \\t stands for a tab character.\n",
    "'''"
   ]
  },
  {
   "cell_type": "markdown",
   "id": "88c5a129",
   "metadata": {},
   "source": [
    "## 3. What is the way to include backslash characters in a string?"
   ]
  },
  {
   "cell_type": "code",
   "execution_count": null,
   "id": "4e2fc35d",
   "metadata": {},
   "outputs": [],
   "source": [
    "'''\n",
    "To include a backslash character in a string, you can use the backslash character itself as an escape character.\n",
    "This means that you need to use two backslashes \\\\ to represent a single backslash character \\.\n",
    "'''"
   ]
  },
  {
   "cell_type": "code",
   "execution_count": 2,
   "id": "a9e63f1a",
   "metadata": {},
   "outputs": [
    {
     "name": "stdout",
     "output_type": "stream",
     "text": [
      "This is a backslash character: \\\n"
     ]
    }
   ],
   "source": [
    "print(\"This is a backslash character: \\\\\")"
   ]
  },
  {
   "cell_type": "markdown",
   "id": "c9494bef",
   "metadata": {},
   "source": [
    "## 4. The string \"Howl's Moving Castle\" is a correct value. Why isn't the single quote character in the word Howl's not escaped a problem?"
   ]
  },
  {
   "cell_type": "code",
   "execution_count": null,
   "id": "67aa4611",
   "metadata": {},
   "outputs": [],
   "source": [
    "'''\n",
    "you can use both single quotes ' and double quotes \" to define a string. This means that if you want to include a single quote character in a string defined with double quotes, you don't need to escape it, and if you want to include a double quote character in a string defined with single quotes, you don't need to escape it.\n",
    "'''"
   ]
  },
  {
   "cell_type": "code",
   "execution_count": 3,
   "id": "d0351a1e",
   "metadata": {},
   "outputs": [
    {
     "data": {
      "text/plain": [
       "\"Howl's Moving Castle\""
      ]
     },
     "execution_count": 3,
     "metadata": {},
     "output_type": "execute_result"
    }
   ],
   "source": [
    "\"Howl's Moving Castle\""
   ]
  },
  {
   "cell_type": "markdown",
   "id": "5235470a",
   "metadata": {},
   "source": [
    "## 5. How do you write a string of newlines if you don't want to use the n character?"
   ]
  },
  {
   "cell_type": "code",
   "execution_count": 4,
   "id": "72ff4066",
   "metadata": {},
   "outputs": [
    {
     "name": "stdout",
     "output_type": "stream",
     "text": [
      "This is\n",
      "a string\n",
      "with multiple\n",
      "lines\n"
     ]
    }
   ],
   "source": [
    "my_string = \"\"\"This is\n",
    "a string\n",
    "with multiple\n",
    "lines\"\"\"\n",
    "\n",
    "single_line_string = my_string.replace('/n', ' ')\n",
    "\n",
    "print(single_line_string)"
   ]
  },
  {
   "cell_type": "code",
   "execution_count": 5,
   "id": "03fac58a",
   "metadata": {},
   "outputs": [
    {
     "data": {
      "text/plain": [
       "'e'"
      ]
     },
     "execution_count": 5,
     "metadata": {},
     "output_type": "execute_result"
    }
   ],
   "source": [
    "'Hello, world!'[1]"
   ]
  },
  {
   "cell_type": "code",
   "execution_count": 6,
   "id": "402e4672",
   "metadata": {},
   "outputs": [
    {
     "data": {
      "text/plain": [
       "'Hello'"
      ]
     },
     "execution_count": 6,
     "metadata": {},
     "output_type": "execute_result"
    }
   ],
   "source": [
    "'Hello, world!'[0:5]"
   ]
  },
  {
   "cell_type": "code",
   "execution_count": 7,
   "id": "2b4a4e64",
   "metadata": {},
   "outputs": [
    {
     "data": {
      "text/plain": [
       "'Hello'"
      ]
     },
     "execution_count": 7,
     "metadata": {},
     "output_type": "execute_result"
    }
   ],
   "source": [
    "'Hello, world!'[:5]"
   ]
  },
  {
   "cell_type": "code",
   "execution_count": 8,
   "id": "818b68b9",
   "metadata": {},
   "outputs": [
    {
     "data": {
      "text/plain": [
       "'lo, world!'"
      ]
     },
     "execution_count": 8,
     "metadata": {},
     "output_type": "execute_result"
    }
   ],
   "source": [
    "'Hello, world!'[3:]"
   ]
  },
  {
   "cell_type": "markdown",
   "id": "c73392f6",
   "metadata": {},
   "source": [
    "## 7. What are the values of the following expressions?"
   ]
  },
  {
   "cell_type": "code",
   "execution_count": 9,
   "id": "2faa2d41",
   "metadata": {},
   "outputs": [
    {
     "data": {
      "text/plain": [
       "'HELLO'"
      ]
     },
     "execution_count": 9,
     "metadata": {},
     "output_type": "execute_result"
    }
   ],
   "source": [
    "'Hello'.upper()"
   ]
  },
  {
   "cell_type": "code",
   "execution_count": 10,
   "id": "f5526212",
   "metadata": {},
   "outputs": [
    {
     "data": {
      "text/plain": [
       "True"
      ]
     },
     "execution_count": 10,
     "metadata": {},
     "output_type": "execute_result"
    }
   ],
   "source": [
    "'Hello'.upper().isupper()"
   ]
  },
  {
   "cell_type": "code",
   "execution_count": 11,
   "id": "a64b3c23",
   "metadata": {},
   "outputs": [
    {
     "data": {
      "text/plain": [
       "'hello'"
      ]
     },
     "execution_count": 11,
     "metadata": {},
     "output_type": "execute_result"
    }
   ],
   "source": [
    "'Hello'.upper().lower()"
   ]
  },
  {
   "cell_type": "markdown",
   "id": "a3a66561",
   "metadata": {},
   "source": [
    "## 8. What are the values of the following expressions?"
   ]
  },
  {
   "cell_type": "code",
   "execution_count": 12,
   "id": "a3724fde",
   "metadata": {},
   "outputs": [
    {
     "data": {
      "text/plain": [
       "['Remember,', 'remember,', 'the', 'fifth', 'of', 'July.']"
      ]
     },
     "execution_count": 12,
     "metadata": {},
     "output_type": "execute_result"
    }
   ],
   "source": [
    "'Remember, remember, the fifth of July.'.split()"
   ]
  },
  {
   "cell_type": "code",
   "execution_count": 13,
   "id": "723a014e",
   "metadata": {},
   "outputs": [
    {
     "data": {
      "text/plain": [
       "'There-can-only-one.'"
      ]
     },
     "execution_count": 13,
     "metadata": {},
     "output_type": "execute_result"
    }
   ],
   "source": [
    "'-'.join('There can only one.'.split())"
   ]
  },
  {
   "cell_type": "markdown",
   "id": "b7ab2004",
   "metadata": {},
   "source": [
    "## 9. What are the methods for right-justifying, left-justifying, and centering a string?"
   ]
  },
  {
   "cell_type": "code",
   "execution_count": null,
   "id": "2bc7ff45",
   "metadata": {},
   "outputs": [],
   "source": [
    "'''\n",
    "Left-justifying a string: This aligns the text to the left-hand side of a given width.\n",
    "Any extra space is added to the right-hand side of the text.\n",
    "'''"
   ]
  },
  {
   "cell_type": "code",
   "execution_count": 14,
   "id": "1ffe5417",
   "metadata": {},
   "outputs": [
    {
     "data": {
      "text/plain": [
       "'Do you know Asta?........'"
      ]
     },
     "execution_count": 14,
     "metadata": {},
     "output_type": "execute_result"
    }
   ],
   "source": [
    "my_string =\"Do you know Asta?\"\n",
    "width = 25\n",
    "my_string.ljust(width, '.')"
   ]
  },
  {
   "cell_type": "code",
   "execution_count": null,
   "id": "0c6fc573",
   "metadata": {},
   "outputs": [],
   "source": [
    "'''\n",
    "Right-justifying a string: This aligns the text to the right-hand side of a given width.\n",
    "Any extra space is added to the left-hand side of the text.\n",
    "'''"
   ]
  },
  {
   "cell_type": "code",
   "execution_count": 15,
   "id": "5f3340ec",
   "metadata": {},
   "outputs": [
    {
     "data": {
      "text/plain": [
       "'...... Do you know Asta? '"
      ]
     },
     "execution_count": 15,
     "metadata": {},
     "output_type": "execute_result"
    }
   ],
   "source": [
    "my_string =\" Do you know Asta? \"\n",
    "width = 25\n",
    "my_string.rjust(width, '.')"
   ]
  },
  {
   "cell_type": "code",
   "execution_count": null,
   "id": "655535f4",
   "metadata": {},
   "outputs": [],
   "source": [
    "'''\n",
    "Centering a string: This aligns the text in the center of a given width.\n",
    "Any extra space is added equally to the left and right-hand sides of the text.\n",
    "'''"
   ]
  },
  {
   "cell_type": "code",
   "execution_count": 16,
   "id": "786c0062",
   "metadata": {},
   "outputs": [
    {
     "data": {
      "text/plain": [
       "'... Do you know Asta? ...'"
      ]
     },
     "execution_count": 16,
     "metadata": {},
     "output_type": "execute_result"
    }
   ],
   "source": [
    "my_string =\" Do you know Asta? \"\n",
    "width = 25\n",
    "my_string.center(width, '.')"
   ]
  },
  {
   "cell_type": "markdown",
   "id": "2721cd9d",
   "metadata": {},
   "source": [
    "## 10. What is the best way to remove whitespace characters from the start or end?"
   ]
  },
  {
   "cell_type": "code",
   "execution_count": 17,
   "id": "03a2476f",
   "metadata": {},
   "outputs": [
    {
     "name": "stdout",
     "output_type": "stream",
     "text": [
      "Hello World!\n"
     ]
    }
   ],
   "source": [
    "my_string = \"   Hello World!   \"\n",
    "my_string = my_string.strip()\n",
    "print(my_string) "
   ]
  },
  {
   "cell_type": "code",
   "execution_count": 18,
   "id": "182260ee",
   "metadata": {},
   "outputs": [
    {
     "name": "stdout",
     "output_type": "stream",
     "text": [
      "Hello World!   \n",
      "   Hello World!\n"
     ]
    }
   ],
   "source": [
    "my_string = \"   Hello World!   \"\n",
    "my_string = my_string.lstrip()\n",
    "print(my_string)   # output: 'Hello World!   '\n",
    "\n",
    "my_string = \"   Hello World!   \"\n",
    "my_string = my_string.rstrip()\n",
    "print(my_string)   # output: '   Hello World!'"
   ]
  },
  {
   "cell_type": "markdown",
   "id": "3fa1cfd8",
   "metadata": {},
   "source": [
    "## Thank You"
   ]
  }
 ],
 "metadata": {
  "kernelspec": {
   "display_name": "Python 3 (ipykernel)",
   "language": "python",
   "name": "python3"
  },
  "language_info": {
   "codemirror_mode": {
    "name": "ipython",
    "version": 3
   },
   "file_extension": ".py",
   "mimetype": "text/x-python",
   "name": "python",
   "nbconvert_exporter": "python",
   "pygments_lexer": "ipython3",
   "version": "3.10.9"
  }
 },
 "nbformat": 4,
 "nbformat_minor": 5
}
