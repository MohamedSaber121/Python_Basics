{
 "cells": [
  {
   "cell_type": "markdown",
   "id": "e1647c28",
   "metadata": {},
   "source": [
    "## 1. How do you distinguish between shutil.copy() and shutil.copytree()?"
   ]
  },
  {
   "cell_type": "raw",
   "id": "3e06348c",
   "metadata": {},
   "source": [
    "In Python, the shutil module provides a way to perform high-level file operations, such as copying, moving,\n",
    "and deleting files and directories. Two of the functions provided by the shutil module are shutil.copy() and\n",
    "shutil.copytree(), which are used to copy files and directories, respectively.\n",
    "\n",
    "The main difference between shutil.copy() and shutil.copytree() is that shutil.copy() is used to copy a single file, \n",
    "while shutil.copytree() is used to copy an entire directory, including all its files and subdirectories.\n",
    "\n",
    "Here is a brief overview of each function:\n",
    "shutil.copy(src, dst):\n",
    "    \n",
    "Copies the file at path src to the file or directory at path dst.\n",
    "If dst is a directory, the file is copied with the same name to the directory.\n",
    "If dst is a file, the file is copied and renamed to dst.\n",
    "If dst already exists, it will be overwritten with the new file.\n",
    "\n",
    "shutil.copytree(src, dst, symlinks=False, ignore=None):\n",
    "\n",
    "Copies the directory at path src to a new directory at path dst.\n",
    "Creates a new directory with the same name as src at path dst, \n",
    "and recursively copies all files and subdirectories from src to the new directory.\n",
    "If dst already exists, an error will be raised unless ignore is set to a function that can handle the error.\n",
    "If symlinks is True, symbolic links in the source tree will be symlinked in the destination tree. \n",
    "Otherwise, the contents of the linked files/directories will be copied."
   ]
  },
  {
   "cell_type": "markdown",
   "id": "bdfa2bff",
   "metadata": {},
   "source": [
    "## 2. What function is used to rename files??"
   ]
  },
  {
   "cell_type": "raw",
   "id": "f9fb585f",
   "metadata": {},
   "source": [
    "the os.rename() method is used to rename files and directories.\n",
    "\n",
    "The os.rename() method takes two arguments: the current name of the file or directory, \n",
    "    and the new name that you want to give it."
   ]
  },
  {
   "cell_type": "code",
   "execution_count": null,
   "id": "65750c19",
   "metadata": {},
   "outputs": [],
   "source": [
    "import os\n",
    "\n",
    "# Rename the file \"example.txt\" to \"new_example.txt\"\n",
    "os.rename(\"example.txt\", \"new_example.txt\")"
   ]
  },
  {
   "cell_type": "markdown",
   "id": "af64edd8",
   "metadata": {},
   "source": [
    "## 3. What is the difference between the delete functions in the send2trash and shutil modules?"
   ]
  },
  {
   "cell_type": "raw",
   "id": "d1fe1bdf",
   "metadata": {},
   "source": [
    "Both the send2trash and shutil modules provide functions for deleting files and directories in Python, \n",
    "but there are some important differences between them.\n",
    "\n",
    "The shutil module provides the shutil.rmtree() method, which is used to delete a directory and \n",
    "all its contents recursively. The shutil.rmtree() method permanently deletes the directory and its contents, \n",
    "and it cannot be undone. "
   ]
  },
  {
   "cell_type": "code",
   "execution_count": null,
   "id": "a2020a8c",
   "metadata": {},
   "outputs": [],
   "source": [
    "import shutil\n",
    "\n",
    "# Delete the directory \"example\"\n",
    "shutil.rmtree(\"example\")"
   ]
  },
  {
   "cell_type": "raw",
   "id": "8f9cbf26",
   "metadata": {},
   "source": [
    "In contrast, the send2trash module provides the send2trash.send2trash() method, \n",
    "which moves a file or directory to the operating system's trash or recycle bin, \n",
    "rather than permanently deleting it. This allows you to recover the deleted file or directory if you change your mind later."
   ]
  },
  {
   "cell_type": "code",
   "execution_count": null,
   "id": "c43cda67",
   "metadata": {},
   "outputs": [],
   "source": [
    "import send2trash\n",
    "\n",
    "# Delete the file \"example.txt\"\n",
    "send2trash.send2trash(\"example.txt\")"
   ]
  },
  {
   "cell_type": "raw",
   "id": "9f93c86f",
   "metadata": {},
   "source": [
    "the main difference between the delete functions in the send2trash and \n",
    "shutil modules is that shutil.rmtree() permanently deletes a directory and its contents, \n",
    "while send2trash.send2trash() moves a file or directory to the operating system's trash or recycle bin, \n",
    "allowing for potential recovery."
   ]
  },
  {
   "cell_type": "markdown",
   "id": "006b5961",
   "metadata": {},
   "source": [
    "## 4.ZipFile objects have a close() method just like File objects’ close() method. What ZipFile method is equivalent to File objects’ open() method?"
   ]
  },
  {
   "cell_type": "raw",
   "id": "2ca95948",
   "metadata": {},
   "source": [
    "The ZipFile class in Python's zipfile module is used to manipulate ZIP archive files. \n",
    "The ZipFile class provides methods for reading and writing data to and from ZIP archives, \n",
    "as well as for creating and extracting ZIP archives.\n",
    "\n",
    "The method in the ZipFile class that is equivalent to the open() method in file objects is the ZipFile() method. \n",
    "The ZipFile() method is used to create a new ZipFile object that represents a ZIP archive file."
   ]
  },
  {
   "cell_type": "code",
   "execution_count": null,
   "id": "b4cfef08",
   "metadata": {},
   "outputs": [],
   "source": [
    "import zipfile\n",
    "\n",
    "# Open the ZIP archive \"example.zip\"\n",
    "with zipfile.ZipFile(\"example.zip\", \"r\") as zip_file:\n",
    "    # Do something with the ZIP archive\n",
    "    ..."
   ]
  },
  {
   "cell_type": "raw",
   "id": "08d1bba0",
   "metadata": {},
   "source": [
    "the second argument to the ZipFile() method specifies the mode in which to open the ZIP archive. \n",
    "The possible mode values are:\n",
    "\n",
    "'r': read mode (default)\n",
    "'w': write mode\n",
    "'x': exclusive creation mode\n",
    "'a': append mode\n",
    "the ZipFile() method in the zipfile module is equivalent to the open() method in file objects, \n",
    "and is used to create a new ZipFile object that represents a ZIP archive file."
   ]
  },
  {
   "cell_type": "markdown",
   "id": "63482756",
   "metadata": {},
   "source": [
    "## 5. Create a programme that searches a folder tree for files with a certain file extension (such as .pdf or .jpg). Copy these files from whatever location they are in to a new folder."
   ]
  },
  {
   "cell_type": "code",
   "execution_count": null,
   "id": "6b8f8834",
   "metadata": {},
   "outputs": [],
   "source": [
    "import os\n",
    "import shutil\n",
    "\n",
    "# Set the source folder to search\n",
    "source_folder = \"source path\"\n",
    "\n",
    "# Set the destination folder to copy files to\n",
    "destination_folder = \"destination path\"\n",
    "\n",
    "# Set the file extension to search for\n",
    "file_extension = \".txt\"\n",
    "\n",
    "# Walk through the folder tree and copy files with the specified extension\n",
    "for root, dirs, files in os.walk(source_folder):\n",
    "    for file in files:\n",
    "        if file.endswith(file_extension):\n",
    "            source_path = os.path.join(root, file)\n",
    "            destination_path = os.path.join(destination_folder, file)\n",
    "            shutil.copy(source_path, destination_path)"
   ]
  },
  {
   "cell_type": "markdown",
   "id": "2b9fd24e",
   "metadata": {},
   "source": [
    "## Thank You"
   ]
  },
  {
   "cell_type": "code",
   "execution_count": null,
   "id": "a86214e5",
   "metadata": {},
   "outputs": [],
   "source": []
  }
 ],
 "metadata": {
  "kernelspec": {
   "display_name": "Python 3 (ipykernel)",
   "language": "python",
   "name": "python3"
  },
  "language_info": {
   "codemirror_mode": {
    "name": "ipython",
    "version": 3
   },
   "file_extension": ".py",
   "mimetype": "text/x-python",
   "name": "python",
   "nbconvert_exporter": "python",
   "pygments_lexer": "ipython3",
   "version": "3.8.0"
  }
 },
 "nbformat": 4,
 "nbformat_minor": 5
}
